{
  "nbformat": 4,
  "nbformat_minor": 0,
  "metadata": {
    "colab": {
      "provenance": [],
      "collapsed_sections": [
        "XkOzm6GfoOGm",
        "s6HMLwx2oYww",
        "BpsChIElqIuG",
        "B838TpydqrFO",
        "iFMte1jGv76l",
        "uvL0xnZgDsZd",
        "kypriEhW1vjs",
        "1J0fZQZR130y",
        "JZxsoGVu2Uir",
        "atqmvC9rJxVK",
        "9UQUpN3kAFgj",
        "Z3bweggeAoqs"
      ]
    },
    "kernelspec": {
      "name": "python3",
      "display_name": "Python 3"
    },
    "language_info": {
      "name": "python"
    }
  },
  "cells": [
    {
      "cell_type": "markdown",
      "metadata": {
        "id": "XkOzm6GfoOGm"
      },
      "source": [
        "# Importing Libraries"
      ]
    },
    {
      "cell_type": "code",
      "metadata": {
        "id": "Ep_8gen6lmKN"
      },
      "source": [
        "import pandas as pd\n",
        "import ast\n",
        "from tqdm.notebook import tqdm\n",
        "import matplotlib.pyplot as plt\n",
        "import ipywidgets as widgets\n",
        "import numpy as np\n",
        "import seaborn as sns"
      ],
      "execution_count": null,
      "outputs": []
    },
    {
      "cell_type": "code",
      "metadata": {
        "colab": {
          "base_uri": "https://localhost:8080/"
        },
        "id": "WliypqijoHIv",
        "outputId": "32bee4dc-ef4b-4660-eaad-be77e679ab78"
      },
      "source": [
        "from google.colab import drive\n",
        "drive.mount('/content/drive')"
      ],
      "execution_count": null,
      "outputs": [
        {
          "output_type": "stream",
          "name": "stdout",
          "text": [
            "Mounted at /content/drive\n"
          ]
        }
      ]
    },
    {
      "cell_type": "markdown",
      "metadata": {
        "id": "Xha3T5H6oTB9"
      },
      "source": [
        "# **2014**"
      ]
    },
    {
      "cell_type": "markdown",
      "metadata": {
        "id": "s6HMLwx2oYww"
      },
      "source": [
        "# Loading data set of 2014"
      ]
    },
    {
      "cell_type": "code",
      "metadata": {
        "id": "ju-AzVKhoSdz"
      },
      "source": [
        "dataset1 = open (\"/content/drive/MyDrive/Data/uber-raw-data-apr14.csv\")"
      ],
      "execution_count": null,
      "outputs": []
    },
    {
      "cell_type": "code",
      "metadata": {
        "id": "fOBZbbPfosu2"
      },
      "source": [
        "april14_df1 = pd.read_csv(\"/content/drive/MyDrive/Data/uber-raw-data-apr14.csv\")"
      ],
      "execution_count": null,
      "outputs": []
    },
    {
      "cell_type": "code",
      "metadata": {
        "id": "uBrdmqcmo-PB"
      },
      "source": [
        "dataset2 = open(\"/content/drive/MyDrive/Data/uber-raw-data-may14.csv\")"
      ],
      "execution_count": null,
      "outputs": []
    },
    {
      "cell_type": "code",
      "metadata": {
        "id": "bXh26TfupFmp"
      },
      "source": [
        "may14_df2 = pd.read_csv(\"/content/drive/MyDrive/Data/uber-raw-data-may14.csv\")"
      ],
      "execution_count": null,
      "outputs": []
    },
    {
      "cell_type": "code",
      "metadata": {
        "id": "E2qjyzj4pMLh"
      },
      "source": [
        "dataset3 = open(\"/content/drive/MyDrive/Data/uber-raw-data-jun14.csv\")"
      ],
      "execution_count": null,
      "outputs": []
    },
    {
      "cell_type": "code",
      "metadata": {
        "id": "W4nBZhRHpR5T"
      },
      "source": [
        "jun14_df3 = pd.read_csv(\"/content/drive/MyDrive/Data/uber-raw-data-jun14.csv\")"
      ],
      "execution_count": null,
      "outputs": []
    },
    {
      "cell_type": "code",
      "metadata": {
        "id": "aoCTBKc8pVls"
      },
      "source": [
        "dataset4 = open(\"/content/drive/MyDrive/Data/uber-raw-data-jul14.csv\")"
      ],
      "execution_count": null,
      "outputs": []
    },
    {
      "cell_type": "code",
      "metadata": {
        "id": "iOaxV3NapaIA"
      },
      "source": [
        "jul14_df4 = pd.read_csv(\"/content/drive/MyDrive/Data/uber-raw-data-jul14.csv\")"
      ],
      "execution_count": null,
      "outputs": []
    },
    {
      "cell_type": "code",
      "metadata": {
        "id": "VlmPaPs-pgYj"
      },
      "source": [
        "dataset5 = open(\"/content/drive/MyDrive/Data/uber-raw-data-aug14.csv\")"
      ],
      "execution_count": null,
      "outputs": []
    },
    {
      "cell_type": "code",
      "metadata": {
        "id": "cY00tDDzpldt"
      },
      "source": [
        "aug14_df5 = pd.read_csv(\"/content/drive/MyDrive/Data/uber-raw-data-aug14.csv\")"
      ],
      "execution_count": null,
      "outputs": []
    },
    {
      "cell_type": "code",
      "metadata": {
        "id": "7mxV5b0Jpug8"
      },
      "source": [
        "dataset6 = open(\"/content/drive/MyDrive/Data/uber-raw-data-sep14.csv\")"
      ],
      "execution_count": null,
      "outputs": []
    },
    {
      "cell_type": "code",
      "metadata": {
        "id": "x3ol-8Vhpx90"
      },
      "source": [
        "sep14_df6 = pd.read_csv(\"/content/drive/MyDrive/Data/uber-raw-data-sep14.csv\")"
      ],
      "execution_count": null,
      "outputs": []
    },
    {
      "cell_type": "code",
      "metadata": {
        "colab": {
          "base_uri": "https://localhost:8080/"
        },
        "id": "hJmXJIWJp25N",
        "outputId": "4d88bdf3-0df5-4f66-8e27-9f0aafe03fe8"
      },
      "source": [
        "april14_df1.shape, may14_df2.shape, jun14_df3.shape, jul14_df4.shape, aug14_df5.shape, sep14_df6.shape"
      ],
      "execution_count": null,
      "outputs": [
        {
          "output_type": "execute_result",
          "data": {
            "text/plain": [
              "((564516, 4), (652435, 4), (663844, 4), (796121, 4), (829275, 4), (1028136, 4))"
            ]
          },
          "metadata": {},
          "execution_count": 15
        }
      ]
    },
    {
      "cell_type": "markdown",
      "metadata": {
        "id": "BpsChIElqIuG"
      },
      "source": [
        "# Combining all data sets together of 2014"
      ]
    },
    {
      "cell_type": "code",
      "metadata": {
        "colab": {
          "base_uri": "https://localhost:8080/"
        },
        "id": "KdNLdqwDqRca",
        "outputId": "f74811d5-c1f3-4ea0-c4b9-65cf7b1fa96c"
      },
      "source": [
        "uber2014_df = pd.DataFrame()\n",
        "uber2014_df = uber2014_df.append(april14_df1)\n",
        "uber2014_df = uber2014_df.append(may14_df2)\n",
        "uber2014_df = uber2014_df.append(jun14_df3)\n",
        "uber2014_df = uber2014_df.append(jul14_df4)\n",
        "uber2014_df = uber2014_df.append(aug14_df5)\n",
        "uber2014_df = uber2014_df.append(sep14_df6)\n",
        "uber2014_df.shape"
      ],
      "execution_count": null,
      "outputs": [
        {
          "output_type": "execute_result",
          "data": {
            "text/plain": [
              "(4534327, 4)"
            ]
          },
          "metadata": {},
          "execution_count": 16
        }
      ]
    },
    {
      "cell_type": "code",
      "metadata": {
        "colab": {
          "base_uri": "https://localhost:8080/",
          "height": 206
        },
        "id": "orxQ9-zDqejF",
        "outputId": "87dfb8b2-e756-44a6-ef98-9cf015a0d822"
      },
      "source": [
        "uber2014_df.head()"
      ],
      "execution_count": null,
      "outputs": [
        {
          "output_type": "execute_result",
          "data": {
            "text/html": [
              "<div>\n",
              "<style scoped>\n",
              "    .dataframe tbody tr th:only-of-type {\n",
              "        vertical-align: middle;\n",
              "    }\n",
              "\n",
              "    .dataframe tbody tr th {\n",
              "        vertical-align: top;\n",
              "    }\n",
              "\n",
              "    .dataframe thead th {\n",
              "        text-align: right;\n",
              "    }\n",
              "</style>\n",
              "<table border=\"1\" class=\"dataframe\">\n",
              "  <thead>\n",
              "    <tr style=\"text-align: right;\">\n",
              "      <th></th>\n",
              "      <th>Date/Time</th>\n",
              "      <th>Lat</th>\n",
              "      <th>Lon</th>\n",
              "      <th>Base</th>\n",
              "    </tr>\n",
              "  </thead>\n",
              "  <tbody>\n",
              "    <tr>\n",
              "      <th>0</th>\n",
              "      <td>4/1/2014 0:11:00</td>\n",
              "      <td>40.7690</td>\n",
              "      <td>-73.9549</td>\n",
              "      <td>B02512</td>\n",
              "    </tr>\n",
              "    <tr>\n",
              "      <th>1</th>\n",
              "      <td>4/1/2014 0:17:00</td>\n",
              "      <td>40.7267</td>\n",
              "      <td>-74.0345</td>\n",
              "      <td>B02512</td>\n",
              "    </tr>\n",
              "    <tr>\n",
              "      <th>2</th>\n",
              "      <td>4/1/2014 0:21:00</td>\n",
              "      <td>40.7316</td>\n",
              "      <td>-73.9873</td>\n",
              "      <td>B02512</td>\n",
              "    </tr>\n",
              "    <tr>\n",
              "      <th>3</th>\n",
              "      <td>4/1/2014 0:28:00</td>\n",
              "      <td>40.7588</td>\n",
              "      <td>-73.9776</td>\n",
              "      <td>B02512</td>\n",
              "    </tr>\n",
              "    <tr>\n",
              "      <th>4</th>\n",
              "      <td>4/1/2014 0:33:00</td>\n",
              "      <td>40.7594</td>\n",
              "      <td>-73.9722</td>\n",
              "      <td>B02512</td>\n",
              "    </tr>\n",
              "  </tbody>\n",
              "</table>\n",
              "</div>"
            ],
            "text/plain": [
              "          Date/Time      Lat      Lon    Base\n",
              "0  4/1/2014 0:11:00  40.7690 -73.9549  B02512\n",
              "1  4/1/2014 0:17:00  40.7267 -74.0345  B02512\n",
              "2  4/1/2014 0:21:00  40.7316 -73.9873  B02512\n",
              "3  4/1/2014 0:28:00  40.7588 -73.9776  B02512\n",
              "4  4/1/2014 0:33:00  40.7594 -73.9722  B02512"
            ]
          },
          "metadata": {},
          "execution_count": 17
        }
      ]
    },
    {
      "cell_type": "code",
      "metadata": {
        "colab": {
          "base_uri": "https://localhost:8080/"
        },
        "id": "EQuYpTs_A4fE",
        "outputId": "8b3b34be-8bf8-415a-874c-0ce074911cb1"
      },
      "source": [
        "uber2014_df.info()"
      ],
      "execution_count": null,
      "outputs": [
        {
          "output_type": "stream",
          "name": "stdout",
          "text": [
            "<class 'pandas.core.frame.DataFrame'>\n",
            "Int64Index: 4534327 entries, 0 to 1028135\n",
            "Data columns (total 4 columns):\n",
            " #   Column     Dtype  \n",
            "---  ------     -----  \n",
            " 0   Date/Time  object \n",
            " 1   Lat        float64\n",
            " 2   Lon        float64\n",
            " 3   Base       object \n",
            "dtypes: float64(2), object(2)\n",
            "memory usage: 173.0+ MB\n"
          ]
        }
      ]
    },
    {
      "cell_type": "markdown",
      "metadata": {
        "id": "B838TpydqrFO"
      },
      "source": [
        "# Visualizations of maximum number of uber pickups in 2014"
      ]
    },
    {
      "cell_type": "markdown",
      "metadata": {
        "id": "mWXbzQLHrXUR"
      },
      "source": [
        "Converting 'Date/Time' column in uber2014_df into datetime"
      ]
    },
    {
      "cell_type": "code",
      "metadata": {
        "colab": {
          "base_uri": "https://localhost:8080/"
        },
        "id": "M96PuQj6qhiT",
        "outputId": "5625f137-926d-45c7-80be-7ae7a8e03950"
      },
      "source": [
        "uber2014_df['Date/Time'] = pd.to_datetime(uber2014_df['Date/Time'], errors='coerce')\n",
        "uber2014_df['Date/Time']"
      ],
      "execution_count": null,
      "outputs": [
        {
          "output_type": "execute_result",
          "data": {
            "text/plain": [
              "0         2014-04-01 00:11:00\n",
              "1         2014-04-01 00:17:00\n",
              "2         2014-04-01 00:21:00\n",
              "3         2014-04-01 00:28:00\n",
              "4         2014-04-01 00:33:00\n",
              "                  ...        \n",
              "1028131   2014-09-30 22:57:00\n",
              "1028132   2014-09-30 22:57:00\n",
              "1028133   2014-09-30 22:58:00\n",
              "1028134   2014-09-30 22:58:00\n",
              "1028135   2014-09-30 22:58:00\n",
              "Name: Date/Time, Length: 4534327, dtype: datetime64[ns]"
            ]
          },
          "metadata": {},
          "execution_count": 19
        }
      ]
    },
    {
      "cell_type": "markdown",
      "metadata": {
        "id": "e0OYaDO2r_-y"
      },
      "source": [
        "Extracting out month, time and year from 'Date/Time' column"
      ]
    },
    {
      "cell_type": "code",
      "metadata": {
        "colab": {
          "base_uri": "https://localhost:8080/"
        },
        "id": "MjPSoK25ro8u",
        "outputId": "9846993f-a090-44e4-cf37-489833e9cf47"
      },
      "source": [
        "uber2014_df['month'] = uber2014_df['Date/Time'].dt.month\n",
        "uber2014_df['month']"
      ],
      "execution_count": null,
      "outputs": [
        {
          "output_type": "execute_result",
          "data": {
            "text/plain": [
              "0          4\n",
              "1          4\n",
              "2          4\n",
              "3          4\n",
              "4          4\n",
              "          ..\n",
              "1028131    9\n",
              "1028132    9\n",
              "1028133    9\n",
              "1028134    9\n",
              "1028135    9\n",
              "Name: month, Length: 4534327, dtype: int64"
            ]
          },
          "metadata": {},
          "execution_count": 20
        }
      ]
    },
    {
      "cell_type": "code",
      "metadata": {
        "colab": {
          "base_uri": "https://localhost:8080/"
        },
        "id": "nGkkYeWMrvtB",
        "outputId": "459dacb6-aaed-4462-f6b1-a4535e1c7831"
      },
      "source": [
        "uber2014_df['time'] = uber2014_df['Date/Time'].dt.time\n",
        "uber2014_df['time']"
      ],
      "execution_count": null,
      "outputs": [
        {
          "output_type": "execute_result",
          "data": {
            "text/plain": [
              "0          00:11:00\n",
              "1          00:17:00\n",
              "2          00:21:00\n",
              "3          00:28:00\n",
              "4          00:33:00\n",
              "             ...   \n",
              "1028131    22:57:00\n",
              "1028132    22:57:00\n",
              "1028133    22:58:00\n",
              "1028134    22:58:00\n",
              "1028135    22:58:00\n",
              "Name: time, Length: 4534327, dtype: object"
            ]
          },
          "metadata": {},
          "execution_count": 21
        }
      ]
    },
    {
      "cell_type": "code",
      "metadata": {
        "colab": {
          "base_uri": "https://localhost:8080/"
        },
        "id": "hJWLglozr2Y_",
        "outputId": "fb6d3032-2861-4c52-b61e-e3a7133251a9"
      },
      "source": [
        "uber2014_df['year'] = uber2014_df['Date/Time'].dt.year\n",
        "uber2014_df['year']"
      ],
      "execution_count": null,
      "outputs": [
        {
          "output_type": "execute_result",
          "data": {
            "text/plain": [
              "0          2014\n",
              "1          2014\n",
              "2          2014\n",
              "3          2014\n",
              "4          2014\n",
              "           ... \n",
              "1028131    2014\n",
              "1028132    2014\n",
              "1028133    2014\n",
              "1028134    2014\n",
              "1028135    2014\n",
              "Name: year, Length: 4534327, dtype: int64"
            ]
          },
          "metadata": {},
          "execution_count": 22
        }
      ]
    },
    {
      "cell_type": "code",
      "metadata": {
        "colab": {
          "base_uri": "https://localhost:8080/"
        },
        "id": "9WRRbqOGWHRr",
        "outputId": "4f6fe20b-e7dd-4a8d-f7ac-97cab5b0df68"
      },
      "source": [
        "uber2014_df['day'] = uber2014_df['Date/Time'].dt.day\n",
        "uber2014_df['day']"
      ],
      "execution_count": null,
      "outputs": [
        {
          "output_type": "execute_result",
          "data": {
            "text/plain": [
              "0           1\n",
              "1           1\n",
              "2           1\n",
              "3           1\n",
              "4           1\n",
              "           ..\n",
              "1028131    30\n",
              "1028132    30\n",
              "1028133    30\n",
              "1028134    30\n",
              "1028135    30\n",
              "Name: day, Length: 4534327, dtype: int64"
            ]
          },
          "metadata": {},
          "execution_count": 23
        }
      ]
    },
    {
      "cell_type": "code",
      "metadata": {
        "colab": {
          "base_uri": "https://localhost:8080/"
        },
        "id": "q6FzEPxIs-Uq",
        "outputId": "9d457fea-1428-4666-a0ab-b317d612501b"
      },
      "source": [
        "uber2014_df['month'].value_counts()"
      ],
      "execution_count": null,
      "outputs": [
        {
          "output_type": "execute_result",
          "data": {
            "text/plain": [
              "9    1028136\n",
              "8     829275\n",
              "7     796121\n",
              "6     663844\n",
              "5     652435\n",
              "4     564516\n",
              "Name: month, dtype: int64"
            ]
          },
          "metadata": {},
          "execution_count": 24
        }
      ]
    },
    {
      "cell_type": "markdown",
      "metadata": {
        "id": "YAz31nKitbt3"
      },
      "source": [
        "Bar Plot to show most uber pickups in different months of 2014"
      ]
    },
    {
      "cell_type": "code",
      "metadata": {
        "colab": {
          "base_uri": "https://localhost:8080/",
          "height": 277
        },
        "id": "Fm2AUkfDsOdd",
        "outputId": "571e3145-2596-46bd-a2ca-32247772542b"
      },
      "source": [
        "z = uber2014_df['month'].value_counts().sort_values()\n",
        "x = z.keys()\n",
        "y = []\n",
        "for i in range(len(z)):\n",
        "  y.append(z.iloc[i])\n",
        "\n",
        "fig = plt.figure(figsize = (30, 5))\n",
        "\n",
        "# creating the bar plot\n",
        "plt.bar(x, y, color ='skyblue',\n",
        "        width = 0.4)\n",
        "for i in range(len(x)):\n",
        "  plt.text(x[i], y[i], y[i], ha=\"center\", va=\"bottom\")"
      ],
      "execution_count": null,
      "outputs": [
        {
          "output_type": "display_data",
          "data": {
            "image/png": "[encoded data removed]",
            "text/plain": [
              "<Figure size 2160x360 with 1 Axes>"
            ]
          },
          "metadata": {
            "needs_background": "light"
          }
        }
      ]
    },
    {
      "cell_type": "markdown",
      "metadata": {
        "id": "1zlEiScrtCcY"
      },
      "source": [
        "\n",
        "\n",
        "*   Uber Pickups were most in the month of september(9) during 2014\n",
        "\n"
      ]
    },
    {
      "cell_type": "markdown",
      "metadata": {
        "id": "G8kKWrM-tmYB"
      },
      "source": [
        "Line plot to show most uber pickups in 2014"
      ]
    },
    {
      "cell_type": "code",
      "metadata": {
        "colab": {
          "base_uri": "https://localhost:8080/",
          "height": 294
        },
        "id": "ZEkm5kmRtUKo",
        "outputId": "b979366b-a552-448e-ec09-f0fa91587004"
      },
      "source": [
        "uber2014_df['month'].value_counts().sort_values().plot.line()"
      ],
      "execution_count": null,
      "outputs": [
        {
          "output_type": "execute_result",
          "data": {
            "text/plain": [
              "<matplotlib.axes._subplots.AxesSubplot at 0x7f2b7c982410>"
            ]
          },
          "metadata": {},
          "execution_count": 26
        },
        {
          "output_type": "display_data",
          "data": {
            "image/png": "[encoded data removed]",
            "text/plain": [
              "<Figure size 432x288 with 1 Axes>"
            ]
          },
          "metadata": {
            "needs_background": "light"
          }
        }
      ]
    },
    {
      "cell_type": "markdown",
      "metadata": {
        "id": "sMmMpIgctzdB"
      },
      "source": [
        "Line chart to show maximum number of uber pickups at different time"
      ]
    },
    {
      "cell_type": "code",
      "metadata": {
        "colab": {
          "base_uri": "https://localhost:8080/"
        },
        "id": "So3BeEactzK4",
        "outputId": "0ec872cd-218e-4f31-fea6-e0c96295e608"
      },
      "source": [
        "uber2014_df['time'].value_counts().sort_values()"
      ],
      "execution_count": null,
      "outputs": [
        {
          "output_type": "execute_result",
          "data": {
            "text/plain": [
              "02:39:00     673\n",
              "02:36:00     678\n",
              "02:38:00     690\n",
              "02:46:00     697\n",
              "02:40:00     703\n",
              "            ... \n",
              "17:10:00    5826\n",
              "17:13:00    5868\n",
              "18:12:00    5879\n",
              "17:12:00    5880\n",
              "17:14:00    5882\n",
              "Name: time, Length: 1440, dtype: int64"
            ]
          },
          "metadata": {},
          "execution_count": 27
        }
      ]
    },
    {
      "cell_type": "code",
      "metadata": {
        "colab": {
          "base_uri": "https://localhost:8080/",
          "height": 296
        },
        "id": "e6Qm0GbLt-rJ",
        "outputId": "a551d656-aec3-42cd-da97-c1c82a39f2d2"
      },
      "source": [
        "uber2014_df['time'].value_counts().sort_values().plot.line()"
      ],
      "execution_count": null,
      "outputs": [
        {
          "output_type": "execute_result",
          "data": {
            "text/plain": [
              "<matplotlib.axes._subplots.AxesSubplot at 0x7f2b7c8f7f90>"
            ]
          },
          "metadata": {},
          "execution_count": 28
        },
        {
          "output_type": "display_data",
          "data": {
            "image/png": "[encoded data removed]",
            "text/plain": [
              "<Figure size 432x288 with 1 Axes>"
            ]
          },
          "metadata": {
            "needs_background": "light"
          }
        }
      ]
    },
    {
      "cell_type": "markdown",
      "metadata": {
        "id": "wwCmYEO0uxsA"
      },
      "source": [
        "The x-axis shows time and y-axis shows the counts at different time.\n",
        "The time gap on x-axis is at a gap of 5 hours and 33 minutes.\n",
        "From the line chart, it can be observed that during 9:00 a.m. and 10:00 a.m. uber pickups were high. But during evening after 5:00 p.m. there is a sudden increase in the uber pickups which is also much larger than the morning time."
      ]
    },
    {
      "cell_type": "code",
      "metadata": {
        "colab": {
          "base_uri": "https://localhost:8080/",
          "height": 277
        },
        "id": "BuqarraG4GG-",
        "outputId": "e63df929-dff2-4e9e-d361-463bf44f2571"
      },
      "source": [
        "z = uber2014_df['Base'].value_counts().sort_values()\n",
        "x = z.keys()\n",
        "y = []\n",
        "for i in range(len(z)):\n",
        "  y.append(z.iloc[i])\n",
        "\n",
        "fig = plt.figure(figsize = (30, 5))\n",
        "\n",
        "# creating the bar plot\n",
        "plt.bar(x, y, color ='pink',\n",
        "        width = 0.4)\n",
        "for i in range(len(x)):\n",
        "  plt.text(x[i], y[i], y[i], ha=\"center\", va=\"bottom\")"
      ],
      "execution_count": null,
      "outputs": [
        {
          "output_type": "display_data",
          "data": {
            "image/png": "[encoded data removed]",
            "text/plain": [
              "<Figure size 2160x360 with 1 Axes>"
            ]
          },
          "metadata": {
            "needs_background": "light"
          }
        }
      ]
    },
    {
      "cell_type": "markdown",
      "metadata": {
        "id": "kY8zbUPr4bjs"
      },
      "source": [
        "The above bar graph shows the uber pickups from different Uber Bases. B02617 base i.e. Weiter Base has the largest pickups in 2014."
      ]
    },
    {
      "cell_type": "code",
      "metadata": {
        "id": "urONdEeIWM2F"
      },
      "source": [
        "import plotly.express as px"
      ],
      "execution_count": null,
      "outputs": []
    },
    {
      "cell_type": "code",
      "metadata": {
        "id": "3X9j26gqWP6d"
      },
      "source": [
        "weekday=pd.DataFrame(uber2014_df[['day','month']].value_counts()).reset_index()\n",
        "weekday.columns=['Day','Month','Count']\n",
        "weekday['Day']=pd.Categorical(weekday['Day'],categories=[1 ,2 ,3 ,4 ,5 ,6 ,7 ,8 ,9 ,10 ,11 ,12 ,13 ,14 ,15 ,16 ,17 ,18 ,19 ,20 ,21 ,22 ,23 ,24 ,25 ,26 ,27 ,28 ,29 ,30 ,31],ordered=True)\n",
        "weekday['Month']=pd.Categorical(weekday['Month'],categories=[4,5,6,7,8,9],ordered=True)"
      ],
      "execution_count": null,
      "outputs": []
    },
    {
      "cell_type": "code",
      "metadata": {
        "colab": {
          "base_uri": "https://localhost:8080/",
          "height": 517
        },
        "id": "poeh37rPWT6m",
        "outputId": "bfc6e4db-e00a-4be2-bec9-51faf720622c"
      },
      "source": [
        "fig1=px.bar(weekday,\n",
        "      x='Day',\n",
        "      y='Count',\n",
        "      color='Month',\n",
        "      template='plotly_dark',\n",
        "      labels={'Count':'Number of Trips','Day':'Day of the Month'},\n",
        "      width=1100,\n",
        "      height=500,\n",
        "      category_orders={\"Month\": [4,5,6,7,8,9]},\n",
        "      color_discrete_sequence=['#2C2C3E','#2E5467','#1E7F84','#33AC8D','#78D584','#D1FA74'],\n",
        "    text='Count')\n",
        "fig1.update_traces(texttemplate='%{text:.2s}', textposition='outside')\n",
        "fig1.update_layout(title_text='Uber trip by Months and Days', title_x=0.5)\n",
        "fig1.show()"
      ],
      "execution_count": null,
      "outputs": [
        {
          "output_type": "display_data",
          "data": {
            "text/html": [
              "<html>\n",
              "<head><meta charset=\"utf-8\" /></head>\n",
              "<body>\n",
              "    <div>\n",
              "            <script src=\"https://cdnjs.cloudflare.com/ajax/libs/mathjax/2.7.5/MathJax.js?config=TeX-AMS-MML_SVG\"></script><script type=\"text/javascript\">if (window.MathJax) {MathJax.Hub.Config({SVG: {font: \"STIX-Web\"}});}</script>\n",
              "                <script type=\"text/javascript\">window.PlotlyConfig = {MathJaxConfig: 'local'};</script>\n",
              "        <script src=\"https://cdn.plot.ly/plotly-latest.min.js\"></script>    \n",
              "            <div id=\"97bf47f7-84ab-4540-9d2c-b3210f58f990\" class=\"plotly-graph-div\" style=\"height:500px; width:1100px;\"></div>\n",
              "            <script type=\"text/javascript\">\n",
              "                \n",
              "                    window.PLOTLYENV=window.PLOTLYENV || {};\n",
              "                    \n",
              "                if (document.getElementById(\"97bf47f7-84ab-4540-9d2c-b3210f58f990\")) {\n",
              "                    Plotly.newPlot(\n",
              "                        '97bf47f7-84ab-4540-9d2c-b3210f58f990',\n",
              "                        [{\"alignmentgroup\": \"True\", \"hoverlabel\": {\"namelength\": 0}, \"hovertemplate\": \"Month=4<br>Day of the Month=%{x}<br>Number of Trips=%{text}\", \"legendgroup\": \"Month=4\", \"marker\": {\"color\": \"#2C2C3E\"}, \"name\": \"Month=4\", \"offsetgroup\": \"Month=4\", \"orientation\": \"v\", \"showlegend\": true, \"text\": [36251.0, 26714.0, 25095.0, 24925.0, 23352.0, 22835.0, 20973.0, 20701.0, 20641.0, 20420.0, 20346.0, 20041.0, 19550.0, 19521.0, 18170.0, 18074.0, 17717.0, 17474.0, 16975.0, 16843.0, 16188.0, 15475.0, 14677.0, 14602.0, 14546.0, 13445.0, 13162.0, 12674.0, 12112.0, 11017.0], \"textposition\": \"outside\", \"texttemplate\": \"%{text:.2s}\", \"type\": \"bar\", \"x\": [30, 4, 25, 26, 24, 29, 17, 3, 15, 11, 23, 10, 7, 5, 12, 18, 16, 2, 22, 9, 8, 28, 27, 19, 1, 6, 21, 14, 13, 20], \"xaxis\": \"x\", \"y\": [36251, 26714, 25095, 24925, 23352, 22835, 20973, 20701, 20641, 20420, 20346, 20041, 19550, 19521, 18170, 18074, 17717, 17474, 16975, 16843, 16188, 15475, 14677, 14602, 14546, 13445, 13162, 12674, 12112, 11017], \"yaxis\": \"y\"}, {\"alignmentgroup\": \"True\", \"hoverlabel\": {\"namelength\": 0}, \"hovertemplate\": \"Month=5<br>Day of the Month=%{x}<br>Number of Trips=%{text}\", \"legendgroup\": \"Month=5\", \"marker\": {\"color\": \"#2E5467\"}, \"name\": \"Month=5\", \"offsetgroup\": \"Month=5\", \"orientation\": \"v\", \"showlegend\": true, \"text\": [32493.0, 27513.0, 26802.0, 26465.0, 26385.0, 26301.0, 24930.0, 24413.0, 24235.0, 23508.0, 23375.0, 22550.0, 22294.0, 22240.0, 22234.0, 22218.0, 21891.0, 21261.0, 20860.0, 19498.0, 19300.0, 18315.0, 17859.0, 17470.0, 17004.0, 16508.0, 14901.0, 14651.0, 13918.0, 10841.0, 10202.0], \"textposition\": \"outside\", \"texttemplate\": \"%{text:.2s}\", \"type\": \"bar\", \"x\": [16, 8, 22, 23, 9, 15, 29, 30, 2, 21, 1, 10, 17, 28, 3, 14, 7, 31, 20, 13, 6, 19, 5, 12, 27, 18, 11, 24, 4, 25, 26], \"xaxis\": \"x\", \"y\": [32493, 27513, 26802, 26465, 26385, 26301, 24930, 24413, 24235, 23508, 23375, 22550, 22294, 22240, 22234, 22218, 21891, 21261, 20860, 19498, 19300, 18315, 17859, 17470, 17004, 16508, 14901, 14651, 13918, 10841, 10202], \"yaxis\": \"y\"}, {\"alignmentgroup\": \"True\", \"hoverlabel\": {\"namelength\": 0}, \"hovertemplate\": \"Month=6<br>Day of the Month=%{x}<br>Number of Trips=%{text}\", \"legendgroup\": \"Month=6\", \"marker\": {\"color\": \"#1E7F84\"}, \"name\": \"Month=6\", \"offsetgroup\": \"Month=6\", \"orientation\": \"v\", \"showlegend\": true, \"text\": [31207.0, 29844.0, 28594.0, 28516.0, 28371.0, 26460.0, 25716.0, 24895.0, 24683.0, 24647.0, 24271.0, 23244.0, 22874.0, 22831.0, 22674.0, 21807.0, 21208.0, 20889.0, 20779.0, 19940.0, 19327.0, 18395.0, 17778.0, 17735.0, 17503.0, 17107.0, 16322.0, 15967.0, 15749.0, 14511.0], \"textposition\": \"outside\", \"texttemplate\": \"%{text:.2s}\", \"type\": \"bar\", \"x\": [13, 12, 19, 26, 5, 25, 11, 27, 6, 18, 20, 9, 10, 4, 3, 17, 28, 7, 24, 21, 14, 30, 16, 23, 2, 29, 22, 1, 8, 15], \"xaxis\": \"x\", \"y\": [31207, 29844, 28594, 28516, 28371, 26460, 25716, 24895, 24683, 24647, 24271, 23244, 22874, 22831, 22674, 21807, 21208, 20889, 20779, 19940, 19327, 18395, 17778, 17735, 17503, 17107, 16322, 15967, 15749, 14511], \"yaxis\": \"y\"}, {\"alignmentgroup\": \"True\", \"hoverlabel\": {\"namelength\": 0}, \"hovertemplate\": \"Month=7<br>Day of the Month=%{x}<br>Number of Trips=%{text}\", \"legendgroup\": \"Month=7\", \"marker\": {\"color\": \"#33AC8D\"}, \"name\": \"Month=7\", \"offsetgroup\": \"Month=7\", \"orientation\": \"v\", \"showlegend\": true, \"text\": [34073.0, 33845.0, 33541.0, 32050.0, 30740.0, 30710.0, 30541.0, 29975.0, 29860.0, 29029.0, 28752.0, 28607.0, 27817.0, 27708.0, 27589.0, 27350.0, 26480.0, 25936.0, 25763.0, 25726.0, 23981.0, 23578.0, 22590.0, 21597.0, 21228.0, 21212.0, 21082.0, 18280.0, 14148.0, 11443.0, 10890.0], \"textposition\": \"outside\", \"texttemplate\": \"%{text:.2s}\", \"type\": \"bar\", \"x\": [23, 15, 31, 24, 30, 17, 10, 25, 18, 22, 11, 16, 9, 26, 29, 14, 2, 12, 8, 19, 28, 21, 27, 3, 1, 20, 13, 7, 4, 6, 5], \"xaxis\": \"x\", \"y\": [34073, 33845, 33541, 32050, 30740, 30710, 30541, 29975, 29860, 29029, 28752, 28607, 27817, 27708, 27589, 27350, 26480, 25936, 25763, 25726, 23981, 23578, 22590, 21597, 21228, 21212, 21082, 18280, 14148, 11443, 10890], \"yaxis\": \"y\"}, {\"alignmentgroup\": \"True\", \"hoverlabel\": {\"namelength\": 0}, \"hovertemplate\": \"Month=8<br>Day of the Month=%{x}<br>Number of Trips=%{text}\", \"legendgroup\": \"Month=8\", \"marker\": {\"color\": \"#78D584\"}, \"name\": \"Month=8\", \"offsetgroup\": \"Month=8\", \"orientation\": \"v\", \"showlegend\": true, \"text\": [32759.0, 32353.0, 32304.0, 30495.0, 30457.0, 30411.0, 29788.0, 29646.0, 29512.0, 28974.0, 28678.0, 28597.0, 28094.0, 27955.0, 27424.0, 27097.0, 27018.0, 26286.0, 26234.0, 24952.0, 24834.0, 24550.0, 23930.0, 23271.0, 23146.0, 22632.0, 22093.0, 22036.0, 21956.0, 21209.0, 20584.0], \"textposition\": \"outside\", \"texttemplate\": \"%{text:.2s}\", \"type\": \"bar\", \"x\": [7, 1, 21, 6, 14, 8, 13, 12, 22, 15, 2, 28, 5, 20, 29, 23, 27, 9, 16, 4, 19, 26, 30, 31, 3, 11, 25, 24, 18, 17, 10], \"xaxis\": \"x\", \"y\": [32759, 32353, 32304, 30495, 30457, 30411, 29788, 29646, 29512, 28974, 28678, 28597, 28094, 27955, 27424, 27097, 27018, 26286, 26234, 24952, 24834, 24550, 23930, 23271, 23146, 22632, 22093, 22036, 21956, 21209, 20584], \"yaxis\": \"y\"}, {\"alignmentgroup\": \"True\", \"hoverlabel\": {\"namelength\": 0}, \"hovertemplate\": \"Month=9<br>Day of the Month=%{x}<br>Number of Trips=%{text}\", \"legendgroup\": \"Month=9\", \"marker\": {\"color\": \"#D1FA74\"}, \"name\": \"Month=9\", \"offsetgroup\": \"Month=9\", \"orientation\": \"v\", \"showlegend\": true, \"text\": [43205.0, 42319.0, 41017.0, 40520.0, 40274.0, 39540.0, 39468.0, 38864.0, 38360.0, 38203.0, 37504.0, 36439.0, 36092.0, 35910.0, 35531.0, 34560.0, 33431.0, 32631.0, 31301.0, 30360.0, 30316.0, 30134.0, 29656.0, 29454.0, 29201.0, 28831.0, 28620.0, 28312.0, 28122.0, 19961.0], \"textposition\": \"outside\", \"texttemplate\": \"%{text:.2s}\", \"type\": \"bar\", \"x\": [13, 5, 19, 6, 18, 12, 27, 20, 4, 25, 26, 11, 16, 10, 17, 9, 30, 3, 24, 8, 23, 7, 28, 15, 29, 2, 21, 22, 14, 1], \"xaxis\": \"x\", \"y\": [43205, 42319, 41017, 40520, 40274, 39540, 39468, 38864, 38360, 38203, 37504, 36439, 36092, 35910, 35531, 34560, 33431, 32631, 31301, 30360, 30316, 30134, 29656, 29454, 29201, 28831, 28620, 28312, 28122, 19961], \"yaxis\": \"y\"}],\n",
              "                        {\"barmode\": \"relative\", \"height\": 500, \"legend\": {\"tracegroupgap\": 0}, \"margin\": {\"t\": 60}, \"template\": {\"data\": {\"bar\": [{\"error_x\": {\"color\": \"#f2f5fa\"}, \"error_y\": {\"color\": \"#f2f5fa\"}, \"marker\": {\"line\": {\"color\": \"rgb(17,17,17)\", \"width\": 0.5}}, \"type\": \"bar\"}], \"barpolar\": [{\"marker\": {\"line\": {\"color\": \"rgb(17,17,17)\", \"width\": 0.5}}, \"type\": \"barpolar\"}], \"carpet\": [{\"aaxis\": {\"endlinecolor\": \"#A2B1C6\", \"gridcolor\": \"#506784\", \"linecolor\": \"#506784\", \"minorgridcolor\": \"#506784\", \"startlinecolor\": \"#A2B1C6\"}, \"baxis\": {\"endlinecolor\": \"#A2B1C6\", \"gridcolor\": \"#506784\", \"linecolor\": \"#506784\", \"minorgridcolor\": \"#506784\", \"startlinecolor\": \"#A2B1C6\"}, \"type\": \"carpet\"}], \"choropleth\": [{\"colorbar\": {\"outlinewidth\": 0, \"ticks\": \"\"}, \"type\": \"choropleth\"}], \"contour\": [{\"colorbar\": {\"outlinewidth\": 0, \"ticks\": \"\"}, \"colorscale\": [[0.0, \"#0d0887\"], [0.1111111111111111, \"#46039f\"], [0.2222222222222222, \"#7201a8\"], [0.3333333333333333, \"#9c179e\"], [0.4444444444444444, \"#bd3786\"], [0.5555555555555556, \"#d8576b\"], [0.6666666666666666, \"#ed7953\"], [0.7777777777777778, \"#fb9f3a\"], [0.8888888888888888, \"#fdca26\"], [1.0, \"#f0f921\"]], \"type\": \"contour\"}], \"contourcarpet\": [{\"colorbar\": {\"outlinewidth\": 0, \"ticks\": \"\"}, \"type\": \"contourcarpet\"}], \"heatmap\": [{\"colorbar\": {\"outlinewidth\": 0, \"ticks\": \"\"}, \"colorscale\": [[0.0, \"#0d0887\"], [0.1111111111111111, \"#46039f\"], [0.2222222222222222, \"#7201a8\"], [0.3333333333333333, \"#9c179e\"], [0.4444444444444444, \"#bd3786\"], [0.5555555555555556, \"#d8576b\"], [0.6666666666666666, \"#ed7953\"], [0.7777777777777778, \"#fb9f3a\"], [0.8888888888888888, \"#fdca26\"], [1.0, \"#f0f921\"]], \"type\": \"heatmap\"}], \"heatmapgl\": [{\"colorbar\": {\"outlinewidth\": 0, \"ticks\": \"\"}, \"colorscale\": [[0.0, \"#0d0887\"], [0.1111111111111111, \"#46039f\"], [0.2222222222222222, \"#7201a8\"], [0.3333333333333333, \"#9c179e\"], [0.4444444444444444, \"#bd3786\"], [0.5555555555555556, \"#d8576b\"], [0.6666666666666666, \"#ed7953\"], [0.7777777777777778, \"#fb9f3a\"], [0.8888888888888888, \"#fdca26\"], [1.0, \"#f0f921\"]], \"type\": \"heatmapgl\"}], \"histogram\": [{\"marker\": {\"colorbar\": {\"outlinewidth\": 0, \"ticks\": \"\"}}, \"type\": \"histogram\"}], \"histogram2d\": [{\"colorbar\": {\"outlinewidth\": 0, \"ticks\": \"\"}, \"colorscale\": [[0.0, \"#0d0887\"], [0.1111111111111111, \"#46039f\"], [0.2222222222222222, \"#7201a8\"], [0.3333333333333333, \"#9c179e\"], [0.4444444444444444, \"#bd3786\"], [0.5555555555555556, \"#d8576b\"], [0.6666666666666666, \"#ed7953\"], [0.7777777777777778, \"#fb9f3a\"], [0.8888888888888888, \"#fdca26\"], [1.0, \"#f0f921\"]], \"type\": \"histogram2d\"}], \"histogram2dcontour\": [{\"colorbar\": {\"outlinewidth\": 0, \"ticks\": \"\"}, \"colorscale\": [[0.0, \"#0d0887\"], [0.1111111111111111, \"#46039f\"], [0.2222222222222222, \"#7201a8\"], [0.3333333333333333, \"#9c179e\"], [0.4444444444444444, \"#bd3786\"], [0.5555555555555556, \"#d8576b\"], [0.6666666666666666, \"#ed7953\"], [0.7777777777777778, \"#fb9f3a\"], [0.8888888888888888, \"#fdca26\"], [1.0, \"#f0f921\"]], \"type\": \"histogram2dcontour\"}], \"mesh3d\": [{\"colorbar\": {\"outlinewidth\": 0, \"ticks\": \"\"}, \"type\": \"mesh3d\"}], \"parcoords\": [{\"line\": {\"colorbar\": {\"outlinewidth\": 0, \"ticks\": \"\"}}, \"type\": \"parcoords\"}], \"pie\": [{\"automargin\": true, \"type\": \"pie\"}], \"scatter\": [{\"marker\": {\"line\": {\"color\": \"#283442\"}}, \"type\": \"scatter\"}], \"scatter3d\": [{\"line\": {\"colorbar\": {\"outlinewidth\": 0, \"ticks\": \"\"}}, \"marker\": {\"colorbar\": {\"outlinewidth\": 0, \"ticks\": \"\"}}, \"type\": \"scatter3d\"}], \"scattercarpet\": [{\"marker\": {\"colorbar\": {\"outlinewidth\": 0, \"ticks\": \"\"}}, \"type\": \"scattercarpet\"}], \"scattergeo\": [{\"marker\": {\"colorbar\": {\"outlinewidth\": 0, \"ticks\": \"\"}}, \"type\": \"scattergeo\"}], \"scattergl\": [{\"marker\": {\"line\": {\"color\": \"#283442\"}}, \"type\": \"scattergl\"}], \"scattermapbox\": [{\"marker\": {\"colorbar\": {\"outlinewidth\": 0, \"ticks\": \"\"}}, \"type\": \"scattermapbox\"}], \"scatterpolar\": [{\"marker\": {\"colorbar\": {\"outlinewidth\": 0, \"ticks\": \"\"}}, \"type\": \"scatterpolar\"}], \"scatterpolargl\": [{\"marker\": {\"colorbar\": {\"outlinewidth\": 0, \"ticks\": \"\"}}, \"type\": \"scatterpolargl\"}], \"scatterternary\": [{\"marker\": {\"colorbar\": {\"outlinewidth\": 0, \"ticks\": \"\"}}, \"type\": \"scatterternary\"}], \"surface\": [{\"colorbar\": {\"outlinewidth\": 0, \"ticks\": \"\"}, \"colorscale\": [[0.0, \"#0d0887\"], [0.1111111111111111, \"#46039f\"], [0.2222222222222222, \"#7201a8\"], [0.3333333333333333, \"#9c179e\"], [0.4444444444444444, \"#bd3786\"], [0.5555555555555556, \"#d8576b\"], [0.6666666666666666, \"#ed7953\"], [0.7777777777777778, \"#fb9f3a\"], [0.8888888888888888, \"#fdca26\"], [1.0, \"#f0f921\"]], \"type\": \"surface\"}], \"table\": [{\"cells\": {\"fill\": {\"color\": \"#506784\"}, \"line\": {\"color\": \"rgb(17,17,17)\"}}, \"header\": {\"fill\": {\"color\": \"#2a3f5f\"}, \"line\": {\"color\": \"rgb(17,17,17)\"}}, \"type\": \"table\"}]}, \"layout\": {\"annotationdefaults\": {\"arrowcolor\": \"#f2f5fa\", \"arrowhead\": 0, \"arrowwidth\": 1}, \"coloraxis\": {\"colorbar\": {\"outlinewidth\": 0, \"ticks\": \"\"}}, \"colorscale\": {\"diverging\": [[0, \"#8e0152\"], [0.1, \"#c51b7d\"], [0.2, \"#de77ae\"], [0.3, \"#f1b6da\"], [0.4, \"#fde0ef\"], [0.5, \"#f7f7f7\"], [0.6, \"#e6f5d0\"], [0.7, \"#b8e186\"], [0.8, \"#7fbc41\"], [0.9, \"#4d9221\"], [1, \"#276419\"]], \"sequential\": [[0.0, \"#0d0887\"], [0.1111111111111111, \"#46039f\"], [0.2222222222222222, \"#7201a8\"], [0.3333333333333333, \"#9c179e\"], [0.4444444444444444, \"#bd3786\"], [0.5555555555555556, \"#d8576b\"], [0.6666666666666666, \"#ed7953\"], [0.7777777777777778, \"#fb9f3a\"], [0.8888888888888888, \"#fdca26\"], [1.0, \"#f0f921\"]], \"sequentialminus\": [[0.0, \"#0d0887\"], [0.1111111111111111, \"#46039f\"], [0.2222222222222222, \"#7201a8\"], [0.3333333333333333, \"#9c179e\"], [0.4444444444444444, \"#bd3786\"], [0.5555555555555556, \"#d8576b\"], [0.6666666666666666, \"#ed7953\"], [0.7777777777777778, \"#fb9f3a\"], [0.8888888888888888, \"#fdca26\"], [1.0, \"#f0f921\"]]}, \"colorway\": [\"#636efa\", \"#EF553B\", \"#00cc96\", \"#ab63fa\", \"#FFA15A\", \"#19d3f3\", \"#FF6692\", \"#B6E880\", \"#FF97FF\", \"#FECB52\"], \"font\": {\"color\": \"#f2f5fa\"}, \"geo\": {\"bgcolor\": \"rgb(17,17,17)\", \"lakecolor\": \"rgb(17,17,17)\", \"landcolor\": \"rgb(17,17,17)\", \"showlakes\": true, \"showland\": true, \"subunitcolor\": \"#506784\"}, \"hoverlabel\": {\"align\": \"left\"}, \"hovermode\": \"closest\", \"mapbox\": {\"style\": \"dark\"}, \"paper_bgcolor\": \"rgb(17,17,17)\", \"plot_bgcolor\": \"rgb(17,17,17)\", \"polar\": {\"angularaxis\": {\"gridcolor\": \"#506784\", \"linecolor\": \"#506784\", \"ticks\": \"\"}, \"bgcolor\": \"rgb(17,17,17)\", \"radialaxis\": {\"gridcolor\": \"#506784\", \"linecolor\": \"#506784\", \"ticks\": \"\"}}, \"scene\": {\"xaxis\": {\"backgroundcolor\": \"rgb(17,17,17)\", \"gridcolor\": \"#506784\", \"gridwidth\": 2, \"linecolor\": \"#506784\", \"showbackground\": true, \"ticks\": \"\", \"zerolinecolor\": \"#C8D4E3\"}, \"yaxis\": {\"backgroundcolor\": \"rgb(17,17,17)\", \"gridcolor\": \"#506784\", \"gridwidth\": 2, \"linecolor\": \"#506784\", \"showbackground\": true, \"ticks\": \"\", \"zerolinecolor\": \"#C8D4E3\"}, \"zaxis\": {\"backgroundcolor\": \"rgb(17,17,17)\", \"gridcolor\": \"#506784\", \"gridwidth\": 2, \"linecolor\": \"#506784\", \"showbackground\": true, \"ticks\": \"\", \"zerolinecolor\": \"#C8D4E3\"}}, \"shapedefaults\": {\"line\": {\"color\": \"#f2f5fa\"}}, \"sliderdefaults\": {\"bgcolor\": \"#C8D4E3\", \"bordercolor\": \"rgb(17,17,17)\", \"borderwidth\": 1, \"tickwidth\": 0}, \"ternary\": {\"aaxis\": {\"gridcolor\": \"#506784\", \"linecolor\": \"#506784\", \"ticks\": \"\"}, \"baxis\": {\"gridcolor\": \"#506784\", \"linecolor\": \"#506784\", \"ticks\": \"\"}, \"bgcolor\": \"rgb(17,17,17)\", \"caxis\": {\"gridcolor\": \"#506784\", \"linecolor\": \"#506784\", \"ticks\": \"\"}}, \"title\": {\"x\": 0.05}, \"updatemenudefaults\": {\"bgcolor\": \"#506784\", \"borderwidth\": 0}, \"xaxis\": {\"automargin\": true, \"gridcolor\": \"#283442\", \"linecolor\": \"#506784\", \"ticks\": \"\", \"title\": {\"standoff\": 15}, \"zerolinecolor\": \"#283442\", \"zerolinewidth\": 2}, \"yaxis\": {\"automargin\": true, \"gridcolor\": \"#283442\", \"linecolor\": \"#506784\", \"ticks\": \"\", \"title\": {\"standoff\": 15}, \"zerolinecolor\": \"#283442\", \"zerolinewidth\": 2}}}, \"title\": {\"text\": \"Uber trip by Months and Days\", \"x\": 0.5}, \"width\": 1100, \"xaxis\": {\"anchor\": \"y\", \"domain\": [0.0, 1.0], \"title\": {\"text\": \"Day of the Month\"}}, \"yaxis\": {\"anchor\": \"x\", \"domain\": [0.0, 1.0], \"title\": {\"text\": \"Number of Trips\"}}},\n",
              "                        {\"responsive\": true}\n",
              "                    ).then(function(){\n",
              "                            \n",
              "var gd = document.getElementById('97bf47f7-84ab-4540-9d2c-b3210f58f990');\n",
              "var x = new MutationObserver(function (mutations, observer) {{\n",
              "        var display = window.getComputedStyle(gd).display;\n",
              "        if (!display || display === 'none') {{\n",
              "            console.log([gd, 'removed!']);\n",
              "            Plotly.purge(gd);\n",
              "            observer.disconnect();\n",
              "        }}\n",
              "}});\n",
              "\n",
              "// Listen for the removal of the full notebook cells\n",
              "var notebookContainer = gd.closest('#notebook-container');\n",
              "if (notebookContainer) {{\n",
              "    x.observe(notebookContainer, {childList: true});\n",
              "}}\n",
              "\n",
              "// Listen for the clearing of the current output cell\n",
              "var outputEl = gd.closest('.output');\n",
              "if (outputEl) {{\n",
              "    x.observe(outputEl, {childList: true});\n",
              "}}\n",
              "\n",
              "                        })\n",
              "                };\n",
              "                \n",
              "            </script>\n",
              "        </div>\n",
              "</body>\n",
              "</html>"
            ]
          },
          "metadata": {}
        }
      ]
    },
    {
      "cell_type": "markdown",
      "metadata": {
        "id": "iFMte1jGv76l"
      },
      "source": [
        "# Visualization of pickup location in 2014"
      ]
    },
    {
      "cell_type": "markdown",
      "metadata": {
        "id": "JHKLW4xuxEsK"
      },
      "source": [
        "Installing folium library for maps"
      ]
    },
    {
      "cell_type": "code",
      "metadata": {
        "colab": {
          "base_uri": "https://localhost:8080/"
        },
        "id": "eYl_Xds7vrrA",
        "outputId": "4e7d7ebe-e6e3-4978-ec11-0237f5d583de"
      },
      "source": [
        "!pip install folium"
      ],
      "execution_count": null,
      "outputs": [
        {
          "output_type": "stream",
          "name": "stdout",
          "text": [
            "Requirement already satisfied: folium in /usr/local/lib/python3.7/dist-packages (0.8.3)\n",
            "Requirement already satisfied: jinja2 in /usr/local/lib/python3.7/dist-packages (from folium) (2.11.3)\n",
            "Requirement already satisfied: requests in /usr/local/lib/python3.7/dist-packages (from folium) (2.23.0)\n",
            "Requirement already satisfied: branca>=0.3.0 in /usr/local/lib/python3.7/dist-packages (from folium) (0.4.2)\n",
            "Requirement already satisfied: numpy in /usr/local/lib/python3.7/dist-packages (from folium) (1.19.5)\n",
            "Requirement already satisfied: six in /usr/local/lib/python3.7/dist-packages (from folium) (1.15.0)\n",
            "Requirement already satisfied: MarkupSafe>=0.23 in /usr/local/lib/python3.7/dist-packages (from jinja2->folium) (2.0.1)\n",
            "Requirement already satisfied: idna<3,>=2.5 in /usr/local/lib/python3.7/dist-packages (from requests->folium) (2.10)\n",
            "Requirement already satisfied: chardet<4,>=3.0.2 in /usr/local/lib/python3.7/dist-packages (from requests->folium) (3.0.4)\n",
            "Requirement already satisfied: certifi>=2017.4.17 in /usr/local/lib/python3.7/dist-packages (from requests->folium) (2021.10.8)\n",
            "Requirement already satisfied: urllib3!=1.25.0,!=1.25.1,<1.26,>=1.21.1 in /usr/local/lib/python3.7/dist-packages (from requests->folium) (1.24.3)\n"
          ]
        }
      ]
    },
    {
      "cell_type": "code",
      "metadata": {
        "id": "35z31DxgxJNX"
      },
      "source": [
        "import folium"
      ],
      "execution_count": null,
      "outputs": []
    },
    {
      "cell_type": "code",
      "metadata": {
        "id": "XsfuxgS4xKvr"
      },
      "source": [
        "from folium import Choropleth, Circle, Marker\n",
        "from folium.plugins import HeatMap, MarkerCluster"
      ],
      "execution_count": null,
      "outputs": []
    },
    {
      "cell_type": "code",
      "metadata": {
        "colab": {
          "base_uri": "https://localhost:8080/"
        },
        "id": "_2IYPt3KxTnR",
        "outputId": "a4c06bc9-7ce9-49d6-ae03-f15c3fad2a7c"
      },
      "source": [
        "uber2014_df.head()"
      ],
      "execution_count": null,
      "outputs": [
        {
          "output_type": "execute_result",
          "data": {
            "text/html": [
              "<div>\n",
              "<style scoped>\n",
              "    .dataframe tbody tr th:only-of-type {\n",
              "        vertical-align: middle;\n",
              "    }\n",
              "\n",
              "    .dataframe tbody tr th {\n",
              "        vertical-align: top;\n",
              "    }\n",
              "\n",
              "    .dataframe thead th {\n",
              "        text-align: right;\n",
              "    }\n",
              "</style>\n",
              "<table border=\"1\" class=\"dataframe\">\n",
              "  <thead>\n",
              "    <tr style=\"text-align: right;\">\n",
              "      <th></th>\n",
              "      <th>Date/Time</th>\n",
              "      <th>Lat</th>\n",
              "      <th>Lon</th>\n",
              "      <th>Base</th>\n",
              "      <th>month</th>\n",
              "      <th>time</th>\n",
              "      <th>year</th>\n",
              "    </tr>\n",
              "  </thead>\n",
              "  <tbody>\n",
              "    <tr>\n",
              "      <th>0</th>\n",
              "      <td>2014-04-01 00:11:00</td>\n",
              "      <td>40.7690</td>\n",
              "      <td>-73.9549</td>\n",
              "      <td>B02512</td>\n",
              "      <td>4</td>\n",
              "      <td>00:11:00</td>\n",
              "      <td>2014</td>\n",
              "    </tr>\n",
              "    <tr>\n",
              "      <th>1</th>\n",
              "      <td>2014-04-01 00:17:00</td>\n",
              "      <td>40.7267</td>\n",
              "      <td>-74.0345</td>\n",
              "      <td>B02512</td>\n",
              "      <td>4</td>\n",
              "      <td>00:17:00</td>\n",
              "      <td>2014</td>\n",
              "    </tr>\n",
              "    <tr>\n",
              "      <th>2</th>\n",
              "      <td>2014-04-01 00:21:00</td>\n",
              "      <td>40.7316</td>\n",
              "      <td>-73.9873</td>\n",
              "      <td>B02512</td>\n",
              "      <td>4</td>\n",
              "      <td>00:21:00</td>\n",
              "      <td>2014</td>\n",
              "    </tr>\n",
              "    <tr>\n",
              "      <th>3</th>\n",
              "      <td>2014-04-01 00:28:00</td>\n",
              "      <td>40.7588</td>\n",
              "      <td>-73.9776</td>\n",
              "      <td>B02512</td>\n",
              "      <td>4</td>\n",
              "      <td>00:28:00</td>\n",
              "      <td>2014</td>\n",
              "    </tr>\n",
              "    <tr>\n",
              "      <th>4</th>\n",
              "      <td>2014-04-01 00:33:00</td>\n",
              "      <td>40.7594</td>\n",
              "      <td>-73.9722</td>\n",
              "      <td>B02512</td>\n",
              "      <td>4</td>\n",
              "      <td>00:33:00</td>\n",
              "      <td>2014</td>\n",
              "    </tr>\n",
              "  </tbody>\n",
              "</table>\n",
              "</div>"
            ],
            "text/plain": [
              "            Date/Time      Lat      Lon    Base  month      time  year\n",
              "0 2014-04-01 00:11:00  40.7690 -73.9549  B02512      4  00:11:00  2014\n",
              "1 2014-04-01 00:17:00  40.7267 -74.0345  B02512      4  00:17:00  2014\n",
              "2 2014-04-01 00:21:00  40.7316 -73.9873  B02512      4  00:21:00  2014\n",
              "3 2014-04-01 00:28:00  40.7588 -73.9776  B02512      4  00:28:00  2014\n",
              "4 2014-04-01 00:33:00  40.7594 -73.9722  B02512      4  00:33:00  2014"
            ]
          },
          "metadata": {},
          "execution_count": 34
        }
      ]
    },
    {
      "cell_type": "code",
      "metadata": {
        "colab": {
          "base_uri": "https://localhost:8080/"
        },
        "id": "u3Rk-dO7xO6U",
        "outputId": "cdf42610-97cc-40f8-c94f-46154e93969e"
      },
      "source": [
        "m_1 = folium.Map(location=[40.7128,-74.0060], tiles='openstreetmap', zoom_start=10)\n",
        "\n",
        "# Display the map\n",
        "m_1"
      ],
      "execution_count": null,
      "outputs": [
        {
          "output_type": "execute_result",
          "data": {
            "text/html": [
              "<div style=\"width:100%;\"><div style=\"position:relative;width:100%;height:0;padding-bottom:60%;\"><span style=\"color:#565656\">Make this Notebook Trusted to load map: File -> Trust Notebook</span><iframe src=\"about:blank\" style=\"position:absolute;width:100%;height:100%;left:0;top:0;border:none !important;\" data-html=%3C%21DOCTYPE%20html%3E%0A%3Chead%3E%20%20%20%20%0A%20%20%20%20%3Cmeta%20http-equiv%3D%22content-type%22%20content%3D%22text/html%3B%20charset%3DUTF-8%22%20/%3E%0A%20%20%20%20%3Cscript%3EL_PREFER_CANVAS%3Dfalse%3B%20L_NO_TOUCH%3Dfalse%3B%20L_DISABLE_3D%3Dfalse%3B%3C/script%3E%0A%20%20%20%20%3Cscript%20src%3D%22https%3A//cdn.jsdelivr.net/npm/leaflet%401.4.0/dist/leaflet.js%22%3E%3C/script%3E%0A%20%20%20%20%3Cscript%20src%3D%22https%3A//code.jquery.com/jquery-1.12.4.min.js%22%3E%3C/script%3E%0A%20%20%20%20%3Cscript%20src%3D%22https%3A//maxcdn.bootstrapcdn.com/bootstrap/3.2.0/js/bootstrap.min.js%22%3E%3C/script%3E%0A%20%20%20%20%3Cscript%20src%3D%22https%3A//cdnjs.cloudflare.com/ajax/libs/Leaflet.awesome-markers/2.0.2/leaflet.awesome-markers.js%22%3E%3C/script%3E%0A%20%20%20%20%3Clink%20rel%3D%22stylesheet%22%20href%3D%22https%3A//cdn.jsdelivr.net/npm/leaflet%401.4.0/dist/leaflet.css%22/%3E%0A%20%20%20%20%3Clink%20rel%3D%22stylesheet%22%20href%3D%22https%3A//maxcdn.bootstrapcdn.com/bootstrap/3.2.0/css/bootstrap.min.css%22/%3E%0A%20%20%20%20%3Clink%20rel%3D%22stylesheet%22%20href%3D%22https%3A//maxcdn.bootstrapcdn.com/bootstrap/3.2.0/css/bootstrap-theme.min.css%22/%3E%0A%20%20%20%20%3Clink%20rel%3D%22stylesheet%22%20href%3D%22https%3A//maxcdn.bootstrapcdn.com/font-awesome/4.6.3/css/font-awesome.min.css%22/%3E%0A%20%20%20%20%3Clink%20rel%3D%22stylesheet%22%20href%3D%22https%3A//cdnjs.cloudflare.com/ajax/libs/Leaflet.awesome-markers/2.0.2/leaflet.awesome-markers.css%22/%3E%0A%20%20%20%20%3Clink%20rel%3D%22stylesheet%22%20href%3D%22https%3A//rawcdn.githack.com/python-visualization/folium/master/folium/templates/leaflet.awesome.rotate.css%22/%3E%0A%20%20%20%20%3Cstyle%3Ehtml%2C%20body%20%7Bwidth%3A%20100%25%3Bheight%3A%20100%25%3Bmargin%3A%200%3Bpadding%3A%200%3B%7D%3C/style%3E%0A%20%20%20%20%3Cstyle%3E%23map%20%7Bposition%3Aabsolute%3Btop%3A0%3Bbottom%3A0%3Bright%3A0%3Bleft%3A0%3B%7D%3C/style%3E%0A%20%20%20%20%0A%20%20%20%20%3Cmeta%20name%3D%22viewport%22%20content%3D%22width%3Ddevice-width%2C%0A%20%20%20%20%20%20%20%20initial-scale%3D1.0%2C%20maximum-scale%3D1.0%2C%20user-scalable%3Dno%22%20/%3E%0A%20%20%20%20%3Cstyle%3E%23map_c459e2fcfe554d08a0bd16ea97cce6c1%20%7B%0A%20%20%20%20%20%20%20%20position%3A%20relative%3B%0A%20%20%20%20%20%20%20%20width%3A%20100.0%25%3B%0A%20%20%20%20%20%20%20%20height%3A%20100.0%25%3B%0A%20%20%20%20%20%20%20%20left%3A%200.0%25%3B%0A%20%20%20%20%20%20%20%20top%3A%200.0%25%3B%0A%20%20%20%20%20%20%20%20%7D%0A%20%20%20%20%3C/style%3E%0A%3C/head%3E%0A%3Cbody%3E%20%20%20%20%0A%20%20%20%20%0A%20%20%20%20%3Cdiv%20class%3D%22folium-map%22%20id%3D%22map_c459e2fcfe554d08a0bd16ea97cce6c1%22%20%3E%3C/div%3E%0A%3C/body%3E%0A%3Cscript%3E%20%20%20%20%0A%20%20%20%20%0A%20%20%20%20%0A%20%20%20%20%20%20%20%20var%20bounds%20%3D%20null%3B%0A%20%20%20%20%0A%0A%20%20%20%20var%20map_c459e2fcfe554d08a0bd16ea97cce6c1%20%3D%20L.map%28%0A%20%20%20%20%20%20%20%20%27map_c459e2fcfe554d08a0bd16ea97cce6c1%27%2C%20%7B%0A%20%20%20%20%20%20%20%20center%3A%20%5B40.7128%2C%20-74.006%5D%2C%0A%20%20%20%20%20%20%20%20zoom%3A%2010%2C%0A%20%20%20%20%20%20%20%20maxBounds%3A%20bounds%2C%0A%20%20%20%20%20%20%20%20layers%3A%20%5B%5D%2C%0A%20%20%20%20%20%20%20%20worldCopyJump%3A%20false%2C%0A%20%20%20%20%20%20%20%20crs%3A%20L.CRS.EPSG3857%2C%0A%20%20%20%20%20%20%20%20zoomControl%3A%20true%2C%0A%20%20%20%20%20%20%20%20%7D%29%3B%0A%0A%0A%20%20%20%20%0A%20%20%20%20var%20tile_layer_4a1024f6f24442d1b24a4927c08a27b8%20%3D%20L.tileLayer%28%0A%20%20%20%20%20%20%20%20%27https%3A//%7Bs%7D.tile.openstreetmap.org/%7Bz%7D/%7Bx%7D/%7By%7D.png%27%2C%0A%20%20%20%20%20%20%20%20%7B%0A%20%20%20%20%20%20%20%20%22attribution%22%3A%20null%2C%0A%20%20%20%20%20%20%20%20%22detectRetina%22%3A%20false%2C%0A%20%20%20%20%20%20%20%20%22maxNativeZoom%22%3A%2018%2C%0A%20%20%20%20%20%20%20%20%22maxZoom%22%3A%2018%2C%0A%20%20%20%20%20%20%20%20%22minZoom%22%3A%200%2C%0A%20%20%20%20%20%20%20%20%22noWrap%22%3A%20false%2C%0A%20%20%20%20%20%20%20%20%22opacity%22%3A%201%2C%0A%20%20%20%20%20%20%20%20%22subdomains%22%3A%20%22abc%22%2C%0A%20%20%20%20%20%20%20%20%22tms%22%3A%20false%0A%7D%29.addTo%28map_c459e2fcfe554d08a0bd16ea97cce6c1%29%3B%0A%3C/script%3E onload=\"this.contentDocument.open();this.contentDocument.write(    decodeURIComponent(this.getAttribute('data-html')));this.contentDocument.close();\" allowfullscreen webkitallowfullscreen mozallowfullscreen></iframe></div></div>"
            ],
            "text/plain": [
              "<folium.folium.Map at 0x7f75daa2e110>"
            ]
          },
          "metadata": {},
          "execution_count": 35
        }
      ]
    },
    {
      "cell_type": "markdown",
      "metadata": {
        "id": "cJlNgOnlxcUT"
      },
      "source": [
        "**Displaying map of New York City**"
      ]
    },
    {
      "cell_type": "code",
      "metadata": {
        "colab": {
          "base_uri": "https://localhost:8080/"
        },
        "id": "ktdbdbQUya3R",
        "outputId": "0ba3e579-de9d-431c-d17e-c7a39a9fbdf9"
      },
      "source": [
        "uber2014_df.head(10)"
      ],
      "execution_count": null,
      "outputs": [
        {
          "output_type": "execute_result",
          "data": {
            "text/html": [
              "<div>\n",
              "<style scoped>\n",
              "    .dataframe tbody tr th:only-of-type {\n",
              "        vertical-align: middle;\n",
              "    }\n",
              "\n",
              "    .dataframe tbody tr th {\n",
              "        vertical-align: top;\n",
              "    }\n",
              "\n",
              "    .dataframe thead th {\n",
              "        text-align: right;\n",
              "    }\n",
              "</style>\n",
              "<table border=\"1\" class=\"dataframe\">\n",
              "  <thead>\n",
              "    <tr style=\"text-align: right;\">\n",
              "      <th></th>\n",
              "      <th>Date/Time</th>\n",
              "      <th>Lat</th>\n",
              "      <th>Lon</th>\n",
              "      <th>Base</th>\n",
              "      <th>month</th>\n",
              "      <th>time</th>\n",
              "      <th>year</th>\n",
              "    </tr>\n",
              "  </thead>\n",
              "  <tbody>\n",
              "    <tr>\n",
              "      <th>0</th>\n",
              "      <td>2014-04-01 00:11:00</td>\n",
              "      <td>40.7690</td>\n",
              "      <td>-73.9549</td>\n",
              "      <td>B02512</td>\n",
              "      <td>4</td>\n",
              "      <td>00:11:00</td>\n",
              "      <td>2014</td>\n",
              "    </tr>\n",
              "    <tr>\n",
              "      <th>1</th>\n",
              "      <td>2014-04-01 00:17:00</td>\n",
              "      <td>40.7267</td>\n",
              "      <td>-74.0345</td>\n",
              "      <td>B02512</td>\n",
              "      <td>4</td>\n",
              "      <td>00:17:00</td>\n",
              "      <td>2014</td>\n",
              "    </tr>\n",
              "    <tr>\n",
              "      <th>2</th>\n",
              "      <td>2014-04-01 00:21:00</td>\n",
              "      <td>40.7316</td>\n",
              "      <td>-73.9873</td>\n",
              "      <td>B02512</td>\n",
              "      <td>4</td>\n",
              "      <td>00:21:00</td>\n",
              "      <td>2014</td>\n",
              "    </tr>\n",
              "    <tr>\n",
              "      <th>3</th>\n",
              "      <td>2014-04-01 00:28:00</td>\n",
              "      <td>40.7588</td>\n",
              "      <td>-73.9776</td>\n",
              "      <td>B02512</td>\n",
              "      <td>4</td>\n",
              "      <td>00:28:00</td>\n",
              "      <td>2014</td>\n",
              "    </tr>\n",
              "    <tr>\n",
              "      <th>4</th>\n",
              "      <td>2014-04-01 00:33:00</td>\n",
              "      <td>40.7594</td>\n",
              "      <td>-73.9722</td>\n",
              "      <td>B02512</td>\n",
              "      <td>4</td>\n",
              "      <td>00:33:00</td>\n",
              "      <td>2014</td>\n",
              "    </tr>\n",
              "    <tr>\n",
              "      <th>5</th>\n",
              "      <td>2014-04-01 00:33:00</td>\n",
              "      <td>40.7383</td>\n",
              "      <td>-74.0403</td>\n",
              "      <td>B02512</td>\n",
              "      <td>4</td>\n",
              "      <td>00:33:00</td>\n",
              "      <td>2014</td>\n",
              "    </tr>\n",
              "    <tr>\n",
              "      <th>6</th>\n",
              "      <td>2014-04-01 00:39:00</td>\n",
              "      <td>40.7223</td>\n",
              "      <td>-73.9887</td>\n",
              "      <td>B02512</td>\n",
              "      <td>4</td>\n",
              "      <td>00:39:00</td>\n",
              "      <td>2014</td>\n",
              "    </tr>\n",
              "    <tr>\n",
              "      <th>7</th>\n",
              "      <td>2014-04-01 00:45:00</td>\n",
              "      <td>40.7620</td>\n",
              "      <td>-73.9790</td>\n",
              "      <td>B02512</td>\n",
              "      <td>4</td>\n",
              "      <td>00:45:00</td>\n",
              "      <td>2014</td>\n",
              "    </tr>\n",
              "    <tr>\n",
              "      <th>8</th>\n",
              "      <td>2014-04-01 00:55:00</td>\n",
              "      <td>40.7524</td>\n",
              "      <td>-73.9960</td>\n",
              "      <td>B02512</td>\n",
              "      <td>4</td>\n",
              "      <td>00:55:00</td>\n",
              "      <td>2014</td>\n",
              "    </tr>\n",
              "    <tr>\n",
              "      <th>9</th>\n",
              "      <td>2014-04-01 01:01:00</td>\n",
              "      <td>40.7575</td>\n",
              "      <td>-73.9846</td>\n",
              "      <td>B02512</td>\n",
              "      <td>4</td>\n",
              "      <td>01:01:00</td>\n",
              "      <td>2014</td>\n",
              "    </tr>\n",
              "  </tbody>\n",
              "</table>\n",
              "</div>"
            ],
            "text/plain": [
              "            Date/Time      Lat      Lon    Base  month      time  year\n",
              "0 2014-04-01 00:11:00  40.7690 -73.9549  B02512      4  00:11:00  2014\n",
              "1 2014-04-01 00:17:00  40.7267 -74.0345  B02512      4  00:17:00  2014\n",
              "2 2014-04-01 00:21:00  40.7316 -73.9873  B02512      4  00:21:00  2014\n",
              "3 2014-04-01 00:28:00  40.7588 -73.9776  B02512      4  00:28:00  2014\n",
              "4 2014-04-01 00:33:00  40.7594 -73.9722  B02512      4  00:33:00  2014\n",
              "5 2014-04-01 00:33:00  40.7383 -74.0403  B02512      4  00:33:00  2014\n",
              "6 2014-04-01 00:39:00  40.7223 -73.9887  B02512      4  00:39:00  2014\n",
              "7 2014-04-01 00:45:00  40.7620 -73.9790  B02512      4  00:45:00  2014\n",
              "8 2014-04-01 00:55:00  40.7524 -73.9960  B02512      4  00:55:00  2014\n",
              "9 2014-04-01 01:01:00  40.7575 -73.9846  B02512      4  01:01:00  2014"
            ]
          },
          "metadata": {},
          "execution_count": 36
        }
      ]
    },
    {
      "cell_type": "code",
      "metadata": {
        "colab": {
          "base_uri": "https://localhost:8080/"
        },
        "id": "7BkMi7cXxzYO",
        "outputId": "9157b593-8641-41ae-85c2-daaf90b50cd4"
      },
      "source": [
        "m = folium.Map(\n",
        "    location=[40.7690 ,  -73.9549],\n",
        "    zoom_start=12,\n",
        "    tiles='Stamen Terrain'\n",
        ")\n",
        "\n",
        "folium.Marker([40.7267 , -74.0345]).add_to(m)\n",
        "folium.Marker([40.7316 ,  -73.98733]).add_to(m)\n",
        "folium.Marker([40.7588 ,\t-73.9776]).add_to(m)\n",
        "folium.Marker([40.7594\t,-73.9722]).add_to(m)\n",
        "folium.Marker([40.7690\t, -73.9549]).add_to(m)\n",
        "folium.Marker([40.7316 ,\t-73.9873]).add_to(m)\n",
        "folium.Marker([40.6932\t, -73.9693]).add_to(m)\n",
        "folium.Marker([40.7273\t, -74.0057]).add_to(m)\n",
        "folium.Marker([40.7594\t, -73.9820]).add_to(m)\n",
        "folium.Marker([40.7520\t, -74.0027]).add_to(m)\n",
        "folium.Marker([40.7383\t, -74.0403]).add_to(m)\n",
        "folium.Marker([40.7223\t, -73.9887]).add_to(m)\n",
        "folium.Marker([40.7620\t, -73.9790]).add_to(m)\n",
        "folium.Marker([40.7524\t, -73.9960]).add_to(m)\n",
        "folium.Marker([40.7575\t, -73.9846]).add_to(m)\n",
        "folium.Marker([40.7371\t, -74.0289]).add_to(m)\n",
        "folium.Marker([40.6446\t, -73.7823]).add_to(m)\n",
        "folium.Marker([40.7163\t, -73.9623]).add_to(m)\n",
        "folium.Marker([40.6979\t, -73.9365]).add_to(m)\n",
        "folium.Marker([40.7668\t, -73.9845]).add_to(m)\n",
        "folium.Marker([40.6911\t, -74.1773]).add_to(m)\n",
        "folium.Marker([40.8519\t, -73.9319]).add_to(m)\n",
        "folium.Marker([40.7081\t, -74.0066\t]).add_to(m)\n",
        "folium.Marker([40.7140\t, -73.9496]).add_to(m)\n",
        "\n",
        "m"
      ],
      "execution_count": null,
      "outputs": [
        {
          "output_type": "execute_result",
          "data": {
            "text/html": [
              "<div style=\"width:100%;\"><div style=\"position:relative;width:100%;height:0;padding-bottom:60%;\"><span style=\"color:#565656\">Make this Notebook Trusted to load map: File -> Trust Notebook</span><iframe src=\"about:blank\" style=\"position:absolute;width:100%;height:100%;left:0;top:0;border:none !important;\" data-html=%3C%21DOCTYPE%20html%3E%0A%3Chead%3E%20%20%20%20%0A%20%20%20%20%3Cmeta%20http-equiv%3D%22content-type%22%20content%3D%22text/html%3B%20charset%3DUTF-8%22%20/%3E%0A%20%20%20%20%3Cscript%3EL_PREFER_CANVAS%3Dfalse%3B%20L_NO_TOUCH%3Dfalse%3B%20L_DISABLE_3D%3Dfalse%3B%3C/script%3E%0A%20%20%20%20%3Cscript%20src%3D%22https%3A//cdn.jsdelivr.net/npm/leaflet%401.4.0/dist/leaflet.js%22%3E%3C/script%3E%0A%20%20%20%20%3Cscript%20src%3D%22https%3A//code.jquery.com/jquery-1.12.4.min.js%22%3E%3C/script%3E%0A%20%20%20%20%3Cscript%20src%3D%22https%3A//maxcdn.bootstrapcdn.com/bootstrap/3.2.0/js/bootstrap.min.js%22%3E%3C/script%3E%0A%20%20%20%20%3Cscript%20src%3D%22https%3A//cdnjs.cloudflare.com/ajax/libs/Leaflet.awesome-markers/2.0.2/leaflet.awesome-markers.js%22%3E%3C/script%3E%0A%20%20%20%20%3Clink%20rel%3D%22stylesheet%22%20href%3D%22https%3A//cdn.jsdelivr.net/npm/leaflet%401.4.0/dist/leaflet.css%22/%3E%0A%20%20%20%20%3Clink%20rel%3D%22stylesheet%22%20href%3D%22https%3A//maxcdn.bootstrapcdn.com/bootstrap/3.2.0/css/bootstrap.min.css%22/%3E%0A%20%20%20%20%3Clink%20rel%3D%22stylesheet%22%20href%3D%22https%3A//maxcdn.bootstrapcdn.com/bootstrap/3.2.0/css/bootstrap-theme.min.css%22/%3E%0A%20%20%20%20%3Clink%20rel%3D%22stylesheet%22%20href%3D%22https%3A//maxcdn.bootstrapcdn.com/font-awesome/4.6.3/css/font-awesome.min.css%22/%3E%0A%20%20%20%20%3Clink%20rel%3D%22stylesheet%22%20href%3D%22https%3A//cdnjs.cloudflare.com/ajax/libs/Leaflet.awesome-markers/2.0.2/leaflet.awesome-markers.css%22/%3E%0A%20%20%20%20%3Clink%20rel%3D%22stylesheet%22%20href%3D%22https%3A//rawcdn.githack.com/python-visualization/folium/master/folium/templates/leaflet.awesome.rotate.css%22/%3E%0A%20%20%20%20%3Cstyle%3Ehtml%2C%20body%20%7Bwidth%3A%20100%25%3Bheight%3A%20100%25%3Bmargin%3A%200%3Bpadding%3A%200%3B%7D%3C/style%3E%0A%20%20%20%20%3Cstyle%3E%23map%20%7Bposition%3Aabsolute%3Btop%3A0%3Bbottom%3A0%3Bright%3A0%3Bleft%3A0%3B%7D%3C/style%3E%0A%20%20%20%20%0A%20%20%20%20%3Cmeta%20name%3D%22viewport%22%20content%3D%22width%3Ddevice-width%2C%0A%20%20%20%20%20%20%20%20initial-scale%3D1.0%2C%20maximum-scale%3D1.0%2C%20user-scalable%3Dno%22%20/%3E%0A%20%20%20%20%3Cstyle%3E%23map_6261b4b622184374b6ffce2708539b85%20%7B%0A%20%20%20%20%20%20%20%20position%3A%20relative%3B%0A%20%20%20%20%20%20%20%20width%3A%20100.0%25%3B%0A%20%20%20%20%20%20%20%20height%3A%20100.0%25%3B%0A%20%20%20%20%20%20%20%20left%3A%200.0%25%3B%0A%20%20%20%20%20%20%20%20top%3A%200.0%25%3B%0A%20%20%20%20%20%20%20%20%7D%0A%20%20%20%20%3C/style%3E%0A%3C/head%3E%0A%3Cbody%3E%20%20%20%20%0A%20%20%20%20%0A%20%20%20%20%3Cdiv%20class%3D%22folium-map%22%20id%3D%22map_6261b4b622184374b6ffce2708539b85%22%20%3E%3C/div%3E%0A%3C/body%3E%0A%3Cscript%3E%20%20%20%20%0A%20%20%20%20%0A%20%20%20%20%0A%20%20%20%20%20%20%20%20var%20bounds%20%3D%20null%3B%0A%20%20%20%20%0A%0A%20%20%20%20var%20map_6261b4b622184374b6ffce2708539b85%20%3D%20L.map%28%0A%20%20%20%20%20%20%20%20%27map_6261b4b622184374b6ffce2708539b85%27%2C%20%7B%0A%20%20%20%20%20%20%20%20center%3A%20%5B40.769%2C%20-73.9549%5D%2C%0A%20%20%20%20%20%20%20%20zoom%3A%2012%2C%0A%20%20%20%20%20%20%20%20maxBounds%3A%20bounds%2C%0A%20%20%20%20%20%20%20%20layers%3A%20%5B%5D%2C%0A%20%20%20%20%20%20%20%20worldCopyJump%3A%20false%2C%0A%20%20%20%20%20%20%20%20crs%3A%20L.CRS.EPSG3857%2C%0A%20%20%20%20%20%20%20%20zoomControl%3A%20true%2C%0A%20%20%20%20%20%20%20%20%7D%29%3B%0A%0A%0A%20%20%20%20%0A%20%20%20%20var%20tile_layer_cac98b641248418480ddea39fe5a1a64%20%3D%20L.tileLayer%28%0A%20%20%20%20%20%20%20%20%27https%3A//stamen-tiles-%7Bs%7D.a.ssl.fastly.net/terrain/%7Bz%7D/%7Bx%7D/%7By%7D.jpg%27%2C%0A%20%20%20%20%20%20%20%20%7B%0A%20%20%20%20%20%20%20%20%22attribution%22%3A%20null%2C%0A%20%20%20%20%20%20%20%20%22detectRetina%22%3A%20false%2C%0A%20%20%20%20%20%20%20%20%22maxNativeZoom%22%3A%2018%2C%0A%20%20%20%20%20%20%20%20%22maxZoom%22%3A%2018%2C%0A%20%20%20%20%20%20%20%20%22minZoom%22%3A%200%2C%0A%20%20%20%20%20%20%20%20%22noWrap%22%3A%20false%2C%0A%20%20%20%20%20%20%20%20%22opacity%22%3A%201%2C%0A%20%20%20%20%20%20%20%20%22subdomains%22%3A%20%22abc%22%2C%0A%20%20%20%20%20%20%20%20%22tms%22%3A%20false%0A%7D%29.addTo%28map_6261b4b622184374b6ffce2708539b85%29%3B%0A%20%20%20%20%0A%20%20%20%20%20%20%20%20var%20marker_bfc8fa65e15145f3a945377e35a931a3%20%3D%20L.marker%28%0A%20%20%20%20%20%20%20%20%20%20%20%20%5B40.7267%2C%20-74.0345%5D%2C%0A%20%20%20%20%20%20%20%20%20%20%20%20%7B%0A%20%20%20%20%20%20%20%20%20%20%20%20%20%20%20%20icon%3A%20new%20L.Icon.Default%28%29%2C%0A%20%20%20%20%20%20%20%20%20%20%20%20%20%20%20%20%7D%0A%20%20%20%20%20%20%20%20%20%20%20%20%29.addTo%28map_6261b4b622184374b6ffce2708539b85%29%3B%0A%20%20%20%20%20%20%20%20%0A%20%20%20%20%0A%20%20%20%20%20%20%20%20var%20marker_aa9f8d13a26b4ef2b8a0fad5959b9b2a%20%3D%20L.marker%28%0A%20%20%20%20%20%20%20%20%20%20%20%20%5B40.7316%2C%20-73.98733%5D%2C%0A%20%20%20%20%20%20%20%20%20%20%20%20%7B%0A%20%20%20%20%20%20%20%20%20%20%20%20%20%20%20%20icon%3A%20new%20L.Icon.Default%28%29%2C%0A%20%20%20%20%20%20%20%20%20%20%20%20%20%20%20%20%7D%0A%20%20%20%20%20%20%20%20%20%20%20%20%29.addTo%28map_6261b4b622184374b6ffce2708539b85%29%3B%0A%20%20%20%20%20%20%20%20%0A%20%20%20%20%0A%20%20%20%20%20%20%20%20var%20marker_1fe63ae1d847418c8e589f2d9cacbda4%20%3D%20L.marker%28%0A%20%20%20%20%20%20%20%20%20%20%20%20%5B40.7588%2C%20-73.9776%5D%2C%0A%20%20%20%20%20%20%20%20%20%20%20%20%7B%0A%20%20%20%20%20%20%20%20%20%20%20%20%20%20%20%20icon%3A%20new%20L.Icon.Default%28%29%2C%0A%20%20%20%20%20%20%20%20%20%20%20%20%20%20%20%20%7D%0A%20%20%20%20%20%20%20%20%20%20%20%20%29.addTo%28map_6261b4b622184374b6ffce2708539b85%29%3B%0A%20%20%20%20%20%20%20%20%0A%20%20%20%20%0A%20%20%20%20%20%20%20%20var%20marker_848d567b76ae4c45b3b4e2cc34a1c624%20%3D%20L.marker%28%0A%20%20%20%20%20%20%20%20%20%20%20%20%5B40.7594%2C%20-73.9722%5D%2C%0A%20%20%20%20%20%20%20%20%20%20%20%20%7B%0A%20%20%20%20%20%20%20%20%20%20%20%20%20%20%20%20icon%3A%20new%20L.Icon.Default%28%29%2C%0A%20%20%20%20%20%20%20%20%20%20%20%20%20%20%20%20%7D%0A%20%20%20%20%20%20%20%20%20%20%20%20%29.addTo%28map_6261b4b622184374b6ffce2708539b85%29%3B%0A%20%20%20%20%20%20%20%20%0A%20%20%20%20%0A%20%20%20%20%20%20%20%20var%20marker_67b089b26104472eac21ae499dbf1d90%20%3D%20L.marker%28%0A%20%20%20%20%20%20%20%20%20%20%20%20%5B40.769%2C%20-73.9549%5D%2C%0A%20%20%20%20%20%20%20%20%20%20%20%20%7B%0A%20%20%20%20%20%20%20%20%20%20%20%20%20%20%20%20icon%3A%20new%20L.Icon.Default%28%29%2C%0A%20%20%20%20%20%20%20%20%20%20%20%20%20%20%20%20%7D%0A%20%20%20%20%20%20%20%20%20%20%20%20%29.addTo%28map_6261b4b622184374b6ffce2708539b85%29%3B%0A%20%20%20%20%20%20%20%20%0A%20%20%20%20%0A%20%20%20%20%20%20%20%20var%20marker_f2a11023d4df472d83fe50758cf39799%20%3D%20L.marker%28%0A%20%20%20%20%20%20%20%20%20%20%20%20%5B40.7316%2C%20-73.9873%5D%2C%0A%20%20%20%20%20%20%20%20%20%20%20%20%7B%0A%20%20%20%20%20%20%20%20%20%20%20%20%20%20%20%20icon%3A%20new%20L.Icon.Default%28%29%2C%0A%20%20%20%20%20%20%20%20%20%20%20%20%20%20%20%20%7D%0A%20%20%20%20%20%20%20%20%20%20%20%20%29.addTo%28map_6261b4b622184374b6ffce2708539b85%29%3B%0A%20%20%20%20%20%20%20%20%0A%20%20%20%20%0A%20%20%20%20%20%20%20%20var%20marker_5d4be3f6574145b49a58c6ecc58304e8%20%3D%20L.marker%28%0A%20%20%20%20%20%20%20%20%20%20%20%20%5B40.6932%2C%20-73.9693%5D%2C%0A%20%20%20%20%20%20%20%20%20%20%20%20%7B%0A%20%20%20%20%20%20%20%20%20%20%20%20%20%20%20%20icon%3A%20new%20L.Icon.Default%28%29%2C%0A%20%20%20%20%20%20%20%20%20%20%20%20%20%20%20%20%7D%0A%20%20%20%20%20%20%20%20%20%20%20%20%29.addTo%28map_6261b4b622184374b6ffce2708539b85%29%3B%0A%20%20%20%20%20%20%20%20%0A%20%20%20%20%0A%20%20%20%20%20%20%20%20var%20marker_277d7ac67c834f8bb70fa065a3a4f835%20%3D%20L.marker%28%0A%20%20%20%20%20%20%20%20%20%20%20%20%5B40.7273%2C%20-74.0057%5D%2C%0A%20%20%20%20%20%20%20%20%20%20%20%20%7B%0A%20%20%20%20%20%20%20%20%20%20%20%20%20%20%20%20icon%3A%20new%20L.Icon.Default%28%29%2C%0A%20%20%20%20%20%20%20%20%20%20%20%20%20%20%20%20%7D%0A%20%20%20%20%20%20%20%20%20%20%20%20%29.addTo%28map_6261b4b622184374b6ffce2708539b85%29%3B%0A%20%20%20%20%20%20%20%20%0A%20%20%20%20%0A%20%20%20%20%20%20%20%20var%20marker_a444394ba88b4905865552f1c0b58db2%20%3D%20L.marker%28%0A%20%20%20%20%20%20%20%20%20%20%20%20%5B40.7594%2C%20-73.982%5D%2C%0A%20%20%20%20%20%20%20%20%20%20%20%20%7B%0A%20%20%20%20%20%20%20%20%20%20%20%20%20%20%20%20icon%3A%20new%20L.Icon.Default%28%29%2C%0A%20%20%20%20%20%20%20%20%20%20%20%20%20%20%20%20%7D%0A%20%20%20%20%20%20%20%20%20%20%20%20%29.addTo%28map_6261b4b622184374b6ffce2708539b85%29%3B%0A%20%20%20%20%20%20%20%20%0A%20%20%20%20%0A%20%20%20%20%20%20%20%20var%20marker_9d56d96fcba34683a148a1e2a8a42f4a%20%3D%20L.marker%28%0A%20%20%20%20%20%20%20%20%20%20%20%20%5B40.752%2C%20-74.0027%5D%2C%0A%20%20%20%20%20%20%20%20%20%20%20%20%7B%0A%20%20%20%20%20%20%20%20%20%20%20%20%20%20%20%20icon%3A%20new%20L.Icon.Default%28%29%2C%0A%20%20%20%20%20%20%20%20%20%20%20%20%20%20%20%20%7D%0A%20%20%20%20%20%20%20%20%20%20%20%20%29.addTo%28map_6261b4b622184374b6ffce2708539b85%29%3B%0A%20%20%20%20%20%20%20%20%0A%20%20%20%20%0A%20%20%20%20%20%20%20%20var%20marker_dc18ca774d674595a7acf715d4403a05%20%3D%20L.marker%28%0A%20%20%20%20%20%20%20%20%20%20%20%20%5B40.7383%2C%20-74.0403%5D%2C%0A%20%20%20%20%20%20%20%20%20%20%20%20%7B%0A%20%20%20%20%20%20%20%20%20%20%20%20%20%20%20%20icon%3A%20new%20L.Icon.Default%28%29%2C%0A%20%20%20%20%20%20%20%20%20%20%20%20%20%20%20%20%7D%0A%20%20%20%20%20%20%20%20%20%20%20%20%29.addTo%28map_6261b4b622184374b6ffce2708539b85%29%3B%0A%20%20%20%20%20%20%20%20%0A%20%20%20%20%0A%20%20%20%20%20%20%20%20var%20marker_9649d5543c5a4f10bab0e4b8c31714e7%20%3D%20L.marker%28%0A%20%20%20%20%20%20%20%20%20%20%20%20%5B40.7223%2C%20-73.9887%5D%2C%0A%20%20%20%20%20%20%20%20%20%20%20%20%7B%0A%20%20%20%20%20%20%20%20%20%20%20%20%20%20%20%20icon%3A%20new%20L.Icon.Default%28%29%2C%0A%20%20%20%20%20%20%20%20%20%20%20%20%20%20%20%20%7D%0A%20%20%20%20%20%20%20%20%20%20%20%20%29.addTo%28map_6261b4b622184374b6ffce2708539b85%29%3B%0A%20%20%20%20%20%20%20%20%0A%20%20%20%20%0A%20%20%20%20%20%20%20%20var%20marker_3aa1796e5c02445599a459fbe914bfa9%20%3D%20L.marker%28%0A%20%20%20%20%20%20%20%20%20%20%20%20%5B40.762%2C%20-73.979%5D%2C%0A%20%20%20%20%20%20%20%20%20%20%20%20%7B%0A%20%20%20%20%20%20%20%20%20%20%20%20%20%20%20%20icon%3A%20new%20L.Icon.Default%28%29%2C%0A%20%20%20%20%20%20%20%20%20%20%20%20%20%20%20%20%7D%0A%20%20%20%20%20%20%20%20%20%20%20%20%29.addTo%28map_6261b4b622184374b6ffce2708539b85%29%3B%0A%20%20%20%20%20%20%20%20%0A%20%20%20%20%0A%20%20%20%20%20%20%20%20var%20marker_bdf77e9d89e3460c9eb06e70aa706317%20%3D%20L.marker%28%0A%20%20%20%20%20%20%20%20%20%20%20%20%5B40.7524%2C%20-73.996%5D%2C%0A%20%20%20%20%20%20%20%20%20%20%20%20%7B%0A%20%20%20%20%20%20%20%20%20%20%20%20%20%20%20%20icon%3A%20new%20L.Icon.Default%28%29%2C%0A%20%20%20%20%20%20%20%20%20%20%20%20%20%20%20%20%7D%0A%20%20%20%20%20%20%20%20%20%20%20%20%29.addTo%28map_6261b4b622184374b6ffce2708539b85%29%3B%0A%20%20%20%20%20%20%20%20%0A%20%20%20%20%0A%20%20%20%20%20%20%20%20var%20marker_3aa767f4d0274fe3959e20611d415b5c%20%3D%20L.marker%28%0A%20%20%20%20%20%20%20%20%20%20%20%20%5B40.7575%2C%20-73.9846%5D%2C%0A%20%20%20%20%20%20%20%20%20%20%20%20%7B%0A%20%20%20%20%20%20%20%20%20%20%20%20%20%20%20%20icon%3A%20new%20L.Icon.Default%28%29%2C%0A%20%20%20%20%20%20%20%20%20%20%20%20%20%20%20%20%7D%0A%20%20%20%20%20%20%20%20%20%20%20%20%29.addTo%28map_6261b4b622184374b6ffce2708539b85%29%3B%0A%20%20%20%20%20%20%20%20%0A%20%20%20%20%0A%20%20%20%20%20%20%20%20var%20marker_7e658a9aae6746589a3551a6429cb228%20%3D%20L.marker%28%0A%20%20%20%20%20%20%20%20%20%20%20%20%5B40.7371%2C%20-74.0289%5D%2C%0A%20%20%20%20%20%20%20%20%20%20%20%20%7B%0A%20%20%20%20%20%20%20%20%20%20%20%20%20%20%20%20icon%3A%20new%20L.Icon.Default%28%29%2C%0A%20%20%20%20%20%20%20%20%20%20%20%20%20%20%20%20%7D%0A%20%20%20%20%20%20%20%20%20%20%20%20%29.addTo%28map_6261b4b622184374b6ffce2708539b85%29%3B%0A%20%20%20%20%20%20%20%20%0A%20%20%20%20%0A%20%20%20%20%20%20%20%20var%20marker_38d50f56fe0642eea6a2e2d2952b7c3b%20%3D%20L.marker%28%0A%20%20%20%20%20%20%20%20%20%20%20%20%5B40.6446%2C%20-73.7823%5D%2C%0A%20%20%20%20%20%20%20%20%20%20%20%20%7B%0A%20%20%20%20%20%20%20%20%20%20%20%20%20%20%20%20icon%3A%20new%20L.Icon.Default%28%29%2C%0A%20%20%20%20%20%20%20%20%20%20%20%20%20%20%20%20%7D%0A%20%20%20%20%20%20%20%20%20%20%20%20%29.addTo%28map_6261b4b622184374b6ffce2708539b85%29%3B%0A%20%20%20%20%20%20%20%20%0A%20%20%20%20%0A%20%20%20%20%20%20%20%20var%20marker_68958ed70a934cc0b4b31411363ffe36%20%3D%20L.marker%28%0A%20%20%20%20%20%20%20%20%20%20%20%20%5B40.7163%2C%20-73.9623%5D%2C%0A%20%20%20%20%20%20%20%20%20%20%20%20%7B%0A%20%20%20%20%20%20%20%20%20%20%20%20%20%20%20%20icon%3A%20new%20L.Icon.Default%28%29%2C%0A%20%20%20%20%20%20%20%20%20%20%20%20%20%20%20%20%7D%0A%20%20%20%20%20%20%20%20%20%20%20%20%29.addTo%28map_6261b4b622184374b6ffce2708539b85%29%3B%0A%20%20%20%20%20%20%20%20%0A%20%20%20%20%0A%20%20%20%20%20%20%20%20var%20marker_05636a7755f84c0e8c50f88ab27dfafd%20%3D%20L.marker%28%0A%20%20%20%20%20%20%20%20%20%20%20%20%5B40.6979%2C%20-73.9365%5D%2C%0A%20%20%20%20%20%20%20%20%20%20%20%20%7B%0A%20%20%20%20%20%20%20%20%20%20%20%20%20%20%20%20icon%3A%20new%20L.Icon.Default%28%29%2C%0A%20%20%20%20%20%20%20%20%20%20%20%20%20%20%20%20%7D%0A%20%20%20%20%20%20%20%20%20%20%20%20%29.addTo%28map_6261b4b622184374b6ffce2708539b85%29%3B%0A%20%20%20%20%20%20%20%20%0A%20%20%20%20%0A%20%20%20%20%20%20%20%20var%20marker_db2a976155bf417dab35892d973d9416%20%3D%20L.marker%28%0A%20%20%20%20%20%20%20%20%20%20%20%20%5B40.7668%2C%20-73.9845%5D%2C%0A%20%20%20%20%20%20%20%20%20%20%20%20%7B%0A%20%20%20%20%20%20%20%20%20%20%20%20%20%20%20%20icon%3A%20new%20L.Icon.Default%28%29%2C%0A%20%20%20%20%20%20%20%20%20%20%20%20%20%20%20%20%7D%0A%20%20%20%20%20%20%20%20%20%20%20%20%29.addTo%28map_6261b4b622184374b6ffce2708539b85%29%3B%0A%20%20%20%20%20%20%20%20%0A%20%20%20%20%0A%20%20%20%20%20%20%20%20var%20marker_7dbdc9be450349b2a4148180f9cea6c5%20%3D%20L.marker%28%0A%20%20%20%20%20%20%20%20%20%20%20%20%5B40.6911%2C%20-74.1773%5D%2C%0A%20%20%20%20%20%20%20%20%20%20%20%20%7B%0A%20%20%20%20%20%20%20%20%20%20%20%20%20%20%20%20icon%3A%20new%20L.Icon.Default%28%29%2C%0A%20%20%20%20%20%20%20%20%20%20%20%20%20%20%20%20%7D%0A%20%20%20%20%20%20%20%20%20%20%20%20%29.addTo%28map_6261b4b622184374b6ffce2708539b85%29%3B%0A%20%20%20%20%20%20%20%20%0A%20%20%20%20%0A%20%20%20%20%20%20%20%20var%20marker_3c5a8977fb23449386220f7d25395208%20%3D%20L.marker%28%0A%20%20%20%20%20%20%20%20%20%20%20%20%5B40.8519%2C%20-73.9319%5D%2C%0A%20%20%20%20%20%20%20%20%20%20%20%20%7B%0A%20%20%20%20%20%20%20%20%20%20%20%20%20%20%20%20icon%3A%20new%20L.Icon.Default%28%29%2C%0A%20%20%20%20%20%20%20%20%20%20%20%20%20%20%20%20%7D%0A%20%20%20%20%20%20%20%20%20%20%20%20%29.addTo%28map_6261b4b622184374b6ffce2708539b85%29%3B%0A%20%20%20%20%20%20%20%20%0A%20%20%20%20%0A%20%20%20%20%20%20%20%20var%20marker_829cb60489e846dcacc2de127a384c5c%20%3D%20L.marker%28%0A%20%20%20%20%20%20%20%20%20%20%20%20%5B40.7081%2C%20-74.0066%5D%2C%0A%20%20%20%20%20%20%20%20%20%20%20%20%7B%0A%20%20%20%20%20%20%20%20%20%20%20%20%20%20%20%20icon%3A%20new%20L.Icon.Default%28%29%2C%0A%20%20%20%20%20%20%20%20%20%20%20%20%20%20%20%20%7D%0A%20%20%20%20%20%20%20%20%20%20%20%20%29.addTo%28map_6261b4b622184374b6ffce2708539b85%29%3B%0A%20%20%20%20%20%20%20%20%0A%20%20%20%20%0A%20%20%20%20%20%20%20%20var%20marker_985d696302ca42588080054744976666%20%3D%20L.marker%28%0A%20%20%20%20%20%20%20%20%20%20%20%20%5B40.714%2C%20-73.9496%5D%2C%0A%20%20%20%20%20%20%20%20%20%20%20%20%7B%0A%20%20%20%20%20%20%20%20%20%20%20%20%20%20%20%20icon%3A%20new%20L.Icon.Default%28%29%2C%0A%20%20%20%20%20%20%20%20%20%20%20%20%20%20%20%20%7D%0A%20%20%20%20%20%20%20%20%20%20%20%20%29.addTo%28map_6261b4b622184374b6ffce2708539b85%29%3B%0A%20%20%20%20%20%20%20%20%0A%3C/script%3E onload=\"this.contentDocument.open();this.contentDocument.write(    decodeURIComponent(this.getAttribute('data-html')));this.contentDocument.close();\" allowfullscreen webkitallowfullscreen mozallowfullscreen></iframe></div></div>"
            ],
            "text/plain": [
              "<folium.folium.Map at 0x7f75da9ce1d0>"
            ]
          },
          "metadata": {},
          "execution_count": 37
        }
      ]
    },
    {
      "cell_type": "markdown",
      "metadata": {
        "id": "rwqfXLle1TCn"
      },
      "source": [
        "**Map of some of the pickup location of uber in New York City**"
      ]
    },
    {
      "cell_type": "markdown",
      "metadata": {
        "id": "uvL0xnZgDsZd"
      },
      "source": [
        "# Uber Calendar Heatmap for 2014"
      ]
    },
    {
      "cell_type": "markdown",
      "metadata": {
        "id": "8PLJpqLfD6o7"
      },
      "source": [
        "Importing calplot library for calendar heatmap"
      ]
    },
    {
      "cell_type": "code",
      "metadata": {
        "colab": {
          "base_uri": "https://localhost:8080/"
        },
        "id": "Pe9flt8HDwGI",
        "outputId": "ab0c492e-0966-47e3-d7ba-56623518c0f3"
      },
      "source": [
        "!pip install calplot"
      ],
      "execution_count": null,
      "outputs": [
        {
          "output_type": "stream",
          "name": "stdout",
          "text": [
            "Collecting calplot\n",
            "  Downloading calplot-0.1.7.3-py3-none-any.whl (8.1 kB)\n",
            "Requirement already satisfied: matplotlib in /usr/local/lib/python3.7/dist-packages (from calplot) (3.2.2)\n",
            "Requirement already satisfied: numpy in /usr/local/lib/python3.7/dist-packages (from calplot) (1.19.5)\n",
            "Requirement already satisfied: pandas>=1 in /usr/local/lib/python3.7/dist-packages (from calplot) (1.1.5)\n",
            "Requirement already satisfied: python-dateutil>=2.7.3 in /usr/local/lib/python3.7/dist-packages (from pandas>=1->calplot) (2.8.2)\n",
            "Requirement already satisfied: pytz>=2017.2 in /usr/local/lib/python3.7/dist-packages (from pandas>=1->calplot) (2018.9)\n",
            "Requirement already satisfied: six>=1.5 in /usr/local/lib/python3.7/dist-packages (from python-dateutil>=2.7.3->pandas>=1->calplot) (1.15.0)\n",
            "Requirement already satisfied: pyparsing!=2.0.4,!=2.1.2,!=2.1.6,>=2.0.1 in /usr/local/lib/python3.7/dist-packages (from matplotlib->calplot) (2.4.7)\n",
            "Requirement already satisfied: kiwisolver>=1.0.1 in /usr/local/lib/python3.7/dist-packages (from matplotlib->calplot) (1.3.2)\n",
            "Requirement already satisfied: cycler>=0.10 in /usr/local/lib/python3.7/dist-packages (from matplotlib->calplot) (0.11.0)\n",
            "Installing collected packages: calplot\n",
            "Successfully installed calplot-0.1.7.3\n"
          ]
        }
      ]
    },
    {
      "cell_type": "code",
      "metadata": {
        "id": "NnJO5FxFEGDX"
      },
      "source": [
        "import calplot"
      ],
      "execution_count": null,
      "outputs": []
    },
    {
      "cell_type": "markdown",
      "metadata": {
        "id": "LLsJ1XM0EXmC"
      },
      "source": [
        "Converting 'Date/Time' column in uber2014_df to datetime"
      ]
    },
    {
      "cell_type": "code",
      "metadata": {
        "colab": {
          "base_uri": "https://localhost:8080/"
        },
        "id": "aeL7KDnKEHHn",
        "outputId": "3fa23fa4-2b49-4a98-91e7-d929f89cf8d2"
      },
      "source": [
        "uber2014_df['Date/Time'] = pd.to_datetime(uber2014_df['Date/Time'], errors='coerce')\n",
        "uber2014_df['Date/Time']"
      ],
      "execution_count": null,
      "outputs": [
        {
          "output_type": "execute_result",
          "data": {
            "text/plain": [
              "0         2014-04-01 00:11:00\n",
              "1         2014-04-01 00:17:00\n",
              "2         2014-04-01 00:21:00\n",
              "3         2014-04-01 00:28:00\n",
              "4         2014-04-01 00:33:00\n",
              "                  ...        \n",
              "1028131   2014-09-30 22:57:00\n",
              "1028132   2014-09-30 22:57:00\n",
              "1028133   2014-09-30 22:58:00\n",
              "1028134   2014-09-30 22:58:00\n",
              "1028135   2014-09-30 22:58:00\n",
              "Name: Date/Time, Length: 4534327, dtype: datetime64[ns]"
            ]
          },
          "metadata": {},
          "execution_count": 55
        }
      ]
    },
    {
      "cell_type": "markdown",
      "metadata": {
        "id": "8vhoqsHBEdXW"
      },
      "source": [
        "Extracting date from uber2014_df['Date/Time']"
      ]
    },
    {
      "cell_type": "code",
      "metadata": {
        "colab": {
          "base_uri": "https://localhost:8080/"
        },
        "id": "mXbjeBj9EM2W",
        "outputId": "bf05dc67-4355-4db0-a3c7-fd2e09dd2889"
      },
      "source": [
        "uber2014_df['date'] = uber2014_df['Date/Time'].dt.date\n",
        "uber2014_df['date']"
      ],
      "execution_count": null,
      "outputs": [
        {
          "output_type": "execute_result",
          "data": {
            "text/plain": [
              "0          2014-04-01\n",
              "1          2014-04-01\n",
              "2          2014-04-01\n",
              "3          2014-04-01\n",
              "4          2014-04-01\n",
              "              ...    \n",
              "1028131    2014-09-30\n",
              "1028132    2014-09-30\n",
              "1028133    2014-09-30\n",
              "1028134    2014-09-30\n",
              "1028135    2014-09-30\n",
              "Name: date, Length: 4534327, dtype: object"
            ]
          },
          "metadata": {},
          "execution_count": 56
        }
      ]
    },
    {
      "cell_type": "code",
      "metadata": {
        "colab": {
          "base_uri": "https://localhost:8080/",
          "height": 234
        },
        "id": "eEWOe5cbEQfu",
        "outputId": "35eebe94-c584-46f1-8c26-c9415681ae62"
      },
      "source": [
        "uber2014_df['date'] = pd.to_datetime(uber2014_df['date'])\n",
        "\n",
        "# set index to date\n",
        "uber2014_df = uber2014_df.set_index('date')\n",
        "uber2014_df.head()"
      ],
      "execution_count": null,
      "outputs": [
        {
          "output_type": "execute_result",
          "data": {
            "text/html": [
              "<div>\n",
              "<style scoped>\n",
              "    .dataframe tbody tr th:only-of-type {\n",
              "        vertical-align: middle;\n",
              "    }\n",
              "\n",
              "    .dataframe tbody tr th {\n",
              "        vertical-align: top;\n",
              "    }\n",
              "\n",
              "    .dataframe thead th {\n",
              "        text-align: right;\n",
              "    }\n",
              "</style>\n",
              "<table border=\"1\" class=\"dataframe\">\n",
              "  <thead>\n",
              "    <tr style=\"text-align: right;\">\n",
              "      <th></th>\n",
              "      <th>Date/Time</th>\n",
              "      <th>Lat</th>\n",
              "      <th>Lon</th>\n",
              "      <th>Base</th>\n",
              "      <th>month</th>\n",
              "      <th>time</th>\n",
              "      <th>year</th>\n",
              "    </tr>\n",
              "    <tr>\n",
              "      <th>date</th>\n",
              "      <th></th>\n",
              "      <th></th>\n",
              "      <th></th>\n",
              "      <th></th>\n",
              "      <th></th>\n",
              "      <th></th>\n",
              "      <th></th>\n",
              "    </tr>\n",
              "  </thead>\n",
              "  <tbody>\n",
              "    <tr>\n",
              "      <th>2014-04-01</th>\n",
              "      <td>2014-04-01 00:11:00</td>\n",
              "      <td>40.7690</td>\n",
              "      <td>-73.9549</td>\n",
              "      <td>B02512</td>\n",
              "      <td>4</td>\n",
              "      <td>00:11:00</td>\n",
              "      <td>2014</td>\n",
              "    </tr>\n",
              "    <tr>\n",
              "      <th>2014-04-01</th>\n",
              "      <td>2014-04-01 00:17:00</td>\n",
              "      <td>40.7267</td>\n",
              "      <td>-74.0345</td>\n",
              "      <td>B02512</td>\n",
              "      <td>4</td>\n",
              "      <td>00:17:00</td>\n",
              "      <td>2014</td>\n",
              "    </tr>\n",
              "    <tr>\n",
              "      <th>2014-04-01</th>\n",
              "      <td>2014-04-01 00:21:00</td>\n",
              "      <td>40.7316</td>\n",
              "      <td>-73.9873</td>\n",
              "      <td>B02512</td>\n",
              "      <td>4</td>\n",
              "      <td>00:21:00</td>\n",
              "      <td>2014</td>\n",
              "    </tr>\n",
              "    <tr>\n",
              "      <th>2014-04-01</th>\n",
              "      <td>2014-04-01 00:28:00</td>\n",
              "      <td>40.7588</td>\n",
              "      <td>-73.9776</td>\n",
              "      <td>B02512</td>\n",
              "      <td>4</td>\n",
              "      <td>00:28:00</td>\n",
              "      <td>2014</td>\n",
              "    </tr>\n",
              "    <tr>\n",
              "      <th>2014-04-01</th>\n",
              "      <td>2014-04-01 00:33:00</td>\n",
              "      <td>40.7594</td>\n",
              "      <td>-73.9722</td>\n",
              "      <td>B02512</td>\n",
              "      <td>4</td>\n",
              "      <td>00:33:00</td>\n",
              "      <td>2014</td>\n",
              "    </tr>\n",
              "  </tbody>\n",
              "</table>\n",
              "</div>"
            ],
            "text/plain": [
              "                     Date/Time      Lat      Lon    Base  month      time  year\n",
              "date                                                                           \n",
              "2014-04-01 2014-04-01 00:11:00  40.7690 -73.9549  B02512      4  00:11:00  2014\n",
              "2014-04-01 2014-04-01 00:17:00  40.7267 -74.0345  B02512      4  00:17:00  2014\n",
              "2014-04-01 2014-04-01 00:21:00  40.7316 -73.9873  B02512      4  00:21:00  2014\n",
              "2014-04-01 2014-04-01 00:28:00  40.7588 -73.9776  B02512      4  00:28:00  2014\n",
              "2014-04-01 2014-04-01 00:33:00  40.7594 -73.9722  B02512      4  00:33:00  2014"
            ]
          },
          "metadata": {},
          "execution_count": 57
        }
      ]
    },
    {
      "cell_type": "code",
      "metadata": {
        "colab": {
          "base_uri": "https://localhost:8080/"
        },
        "id": "0Mm-4eg2Emg-",
        "outputId": "81af16a8-7ff2-41c1-e5be-4299792b5cd5"
      },
      "source": [
        "# test if DatetimeIndex\n",
        "isinstance(uber2014_df.index, pd.DatetimeIndex)"
      ],
      "execution_count": null,
      "outputs": [
        {
          "output_type": "execute_result",
          "data": {
            "text/plain": [
              "True"
            ]
          },
          "metadata": {},
          "execution_count": 58
        }
      ]
    },
    {
      "cell_type": "code",
      "metadata": {
        "colab": {
          "base_uri": "https://localhost:8080/"
        },
        "id": "W0fv37YsExZJ",
        "outputId": "438cb921-2da9-4310-cec0-b0c450224b05"
      },
      "source": [
        "#Constructing a new dataframe with respect to panda series and index by DateTimeIndex\n",
        "latitude = pd.Series(uber2014_df.Lat)\n",
        "latitude.head()"
      ],
      "execution_count": null,
      "outputs": [
        {
          "output_type": "execute_result",
          "data": {
            "text/plain": [
              "date\n",
              "2014-04-01    40.7690\n",
              "2014-04-01    40.7267\n",
              "2014-04-01    40.7316\n",
              "2014-04-01    40.7588\n",
              "2014-04-01    40.7594\n",
              "Name: Lat, dtype: float64"
            ]
          },
          "metadata": {},
          "execution_count": 59
        }
      ]
    },
    {
      "cell_type": "code",
      "metadata": {
        "colab": {
          "base_uri": "https://localhost:8080/",
          "height": 364
        },
        "id": "9BKh-HR1FLNU",
        "outputId": "9efa5d1a-f727-44a3-ce37-ad842487e607"
      },
      "source": [
        "calplot.calplot(data=latitude, cmap='Reds', figsize=(25,5));\n",
        "plt.suptitle('Calendar Heatmap of 2014', y=1.0, fontsize=20);"
      ],
      "execution_count": null,
      "outputs": [
        {
          "output_type": "stream",
          "name": "stderr",
          "text": [
            "findfont: Font family ['Helvetica'] not found. Falling back to DejaVu Sans.\n"
          ]
        },
        {
          "output_type": "display_data",
          "data": {
            "image/png": "[encoded data removed]",
            "text/plain": [
              "<Figure size 1800x360 with 2 Axes>"
            ]
          },
          "metadata": {}
        }
      ]
    },
    {
      "cell_type": "markdown",
      "metadata": {
        "id": "9F9QjuvmH9XP"
      },
      "source": [
        "The above calendar heatmap of 2014 shows the number of days in maximum number of pickups were done."
      ]
    },
    {
      "cell_type": "markdown",
      "metadata": {
        "id": "kypriEhW1vjs"
      },
      "source": [
        "# **Uber 2015**"
      ]
    },
    {
      "cell_type": "markdown",
      "metadata": {
        "id": "1J0fZQZR130y"
      },
      "source": [
        "# Loading data set of 2015"
      ]
    },
    {
      "cell_type": "code",
      "metadata": {
        "id": "wSj4OXp31ZyL"
      },
      "source": [
        "dataset7 = open(\"/content/drive/MyDrive/Data/uber-raw-data-janjune-15.csv\")"
      ],
      "execution_count": null,
      "outputs": []
    },
    {
      "cell_type": "code",
      "metadata": {
        "id": "-uExzgxz2Fwz"
      },
      "source": [
        "uber2015_df = pd.read_csv(\"/content/drive/MyDrive/Data/uber-raw-data-janjune-15.csv\")"
      ],
      "execution_count": null,
      "outputs": []
    },
    {
      "cell_type": "code",
      "metadata": {
        "colab": {
          "base_uri": "https://localhost:8080/"
        },
        "id": "4hA_zlFm2NmM",
        "outputId": "d95ef3bf-034c-45c4-bff4-53644b6ac25a"
      },
      "source": [
        "uber2015_df.head()"
      ],
      "execution_count": null,
      "outputs": [
        {
          "output_type": "execute_result",
          "data": {
            "text/html": [
              "<div>\n",
              "<style scoped>\n",
              "    .dataframe tbody tr th:only-of-type {\n",
              "        vertical-align: middle;\n",
              "    }\n",
              "\n",
              "    .dataframe tbody tr th {\n",
              "        vertical-align: top;\n",
              "    }\n",
              "\n",
              "    .dataframe thead th {\n",
              "        text-align: right;\n",
              "    }\n",
              "</style>\n",
              "<table border=\"1\" class=\"dataframe\">\n",
              "  <thead>\n",
              "    <tr style=\"text-align: right;\">\n",
              "      <th></th>\n",
              "      <th>Dispatching_base_num</th>\n",
              "      <th>Pickup_date</th>\n",
              "      <th>Affiliated_base_num</th>\n",
              "      <th>locationID</th>\n",
              "    </tr>\n",
              "  </thead>\n",
              "  <tbody>\n",
              "    <tr>\n",
              "      <th>0</th>\n",
              "      <td>B02617</td>\n",
              "      <td>2015-05-17 09:47:00</td>\n",
              "      <td>B02617</td>\n",
              "      <td>141</td>\n",
              "    </tr>\n",
              "    <tr>\n",
              "      <th>1</th>\n",
              "      <td>B02617</td>\n",
              "      <td>2015-05-17 09:47:00</td>\n",
              "      <td>B02617</td>\n",
              "      <td>65</td>\n",
              "    </tr>\n",
              "    <tr>\n",
              "      <th>2</th>\n",
              "      <td>B02617</td>\n",
              "      <td>2015-05-17 09:47:00</td>\n",
              "      <td>B02617</td>\n",
              "      <td>100</td>\n",
              "    </tr>\n",
              "    <tr>\n",
              "      <th>3</th>\n",
              "      <td>B02617</td>\n",
              "      <td>2015-05-17 09:47:00</td>\n",
              "      <td>B02774</td>\n",
              "      <td>80</td>\n",
              "    </tr>\n",
              "    <tr>\n",
              "      <th>4</th>\n",
              "      <td>B02617</td>\n",
              "      <td>2015-05-17 09:47:00</td>\n",
              "      <td>B02617</td>\n",
              "      <td>90</td>\n",
              "    </tr>\n",
              "  </tbody>\n",
              "</table>\n",
              "</div>"
            ],
            "text/plain": [
              "  Dispatching_base_num          Pickup_date Affiliated_base_num  locationID\n",
              "0               B02617  2015-05-17 09:47:00              B02617         141\n",
              "1               B02617  2015-05-17 09:47:00              B02617          65\n",
              "2               B02617  2015-05-17 09:47:00              B02617         100\n",
              "3               B02617  2015-05-17 09:47:00              B02774          80\n",
              "4               B02617  2015-05-17 09:47:00              B02617          90"
            ]
          },
          "metadata": {},
          "execution_count": 40
        }
      ]
    },
    {
      "cell_type": "markdown",
      "metadata": {
        "id": "JZxsoGVu2Uir"
      },
      "source": [
        "# Visualizations of maximum number of uber pickups in 2015"
      ]
    },
    {
      "cell_type": "markdown",
      "metadata": {
        "id": "NiOaXM592r8D"
      },
      "source": [
        "Converting 'Date/Time' column in uber2015_df into datetime"
      ]
    },
    {
      "cell_type": "code",
      "metadata": {
        "colab": {
          "base_uri": "https://localhost:8080/"
        },
        "id": "xvGppM1E2boh",
        "outputId": "0224fa94-fbff-4bfc-caec-a5ca7885fbb9"
      },
      "source": [
        "uber2015_df['Pickup_date'] = pd.to_datetime(uber2015_df['Pickup_date'], errors='coerce')\n",
        "uber2015_df['Pickup_date']"
      ],
      "execution_count": null,
      "outputs": [
        {
          "output_type": "execute_result",
          "data": {
            "text/plain": [
              "0          2015-05-17 09:47:00\n",
              "1          2015-05-17 09:47:00\n",
              "2          2015-05-17 09:47:00\n",
              "3          2015-05-17 09:47:00\n",
              "4          2015-05-17 09:47:00\n",
              "                   ...        \n",
              "14270474   2015-05-08 15:43:00\n",
              "14270475   2015-05-08 15:43:00\n",
              "14270476   2015-05-08 15:43:00\n",
              "14270477   2015-05-08 15:44:00\n",
              "14270478   2015-05-08 15:44:00\n",
              "Name: Pickup_date, Length: 14270479, dtype: datetime64[ns]"
            ]
          },
          "metadata": {},
          "execution_count": 41
        }
      ]
    },
    {
      "cell_type": "markdown",
      "metadata": {
        "id": "7PTl6PQJ3Iej"
      },
      "source": [
        "Extracting out month, time and year from 'Pickup_date' column"
      ]
    },
    {
      "cell_type": "code",
      "metadata": {
        "colab": {
          "base_uri": "https://localhost:8080/"
        },
        "id": "HmWQvptr2ufR",
        "outputId": "8ce0af25-4f19-4e3b-841d-5990e5644224"
      },
      "source": [
        "uber2015_df['month'] = uber2015_df['Pickup_date'].dt.month\n",
        "uber2015_df['month']"
      ],
      "execution_count": null,
      "outputs": [
        {
          "output_type": "execute_result",
          "data": {
            "text/plain": [
              "0           5\n",
              "1           5\n",
              "2           5\n",
              "3           5\n",
              "4           5\n",
              "           ..\n",
              "14270474    5\n",
              "14270475    5\n",
              "14270476    5\n",
              "14270477    5\n",
              "14270478    5\n",
              "Name: month, Length: 14270479, dtype: int64"
            ]
          },
          "metadata": {},
          "execution_count": 42
        }
      ]
    },
    {
      "cell_type": "code",
      "metadata": {
        "colab": {
          "base_uri": "https://localhost:8080/"
        },
        "id": "2BcGLmPH24N5",
        "outputId": "985a3dff-ff7c-467c-ae38-35d4a63d4d1e"
      },
      "source": [
        "uber2015_df['time1'] = uber2015_df['Pickup_date'].dt.time\n",
        "uber2015_df['time1']"
      ],
      "execution_count": null,
      "outputs": [
        {
          "output_type": "execute_result",
          "data": {
            "text/plain": [
              "0           09:47:00\n",
              "1           09:47:00\n",
              "2           09:47:00\n",
              "3           09:47:00\n",
              "4           09:47:00\n",
              "              ...   \n",
              "14270474    15:43:00\n",
              "14270475    15:43:00\n",
              "14270476    15:43:00\n",
              "14270477    15:44:00\n",
              "14270478    15:44:00\n",
              "Name: time1, Length: 14270479, dtype: object"
            ]
          },
          "metadata": {},
          "execution_count": 43
        }
      ]
    },
    {
      "cell_type": "code",
      "metadata": {
        "colab": {
          "base_uri": "https://localhost:8080/"
        },
        "id": "Eb5mpbze29rx",
        "outputId": "da9caf73-a939-4550-dcaf-cb602e69afc4"
      },
      "source": [
        "uber2015_df['year'] = uber2015_df['Pickup_date'].dt.year\n",
        "uber2015_df['year']"
      ],
      "execution_count": null,
      "outputs": [
        {
          "output_type": "execute_result",
          "data": {
            "text/plain": [
              "0           2015\n",
              "1           2015\n",
              "2           2015\n",
              "3           2015\n",
              "4           2015\n",
              "            ... \n",
              "14270474    2015\n",
              "14270475    2015\n",
              "14270476    2015\n",
              "14270477    2015\n",
              "14270478    2015\n",
              "Name: year, Length: 14270479, dtype: int64"
            ]
          },
          "metadata": {},
          "execution_count": 44
        }
      ]
    },
    {
      "cell_type": "code",
      "metadata": {
        "colab": {
          "base_uri": "https://localhost:8080/"
        },
        "id": "sNVFxslC3Nf4",
        "outputId": "0228e4a2-4838-4b55-9e6e-5ddeba08e889"
      },
      "source": [
        "uber2015_df['month'].value_counts().sort_values()"
      ],
      "execution_count": null,
      "outputs": [
        {
          "output_type": "execute_result",
          "data": {
            "text/plain": [
              "1    1953801\n",
              "3    2259773\n",
              "2    2263620\n",
              "4    2280837\n",
              "5    2695553\n",
              "6    2816895\n",
              "Name: month, dtype: int64"
            ]
          },
          "metadata": {},
          "execution_count": 45
        }
      ]
    },
    {
      "cell_type": "markdown",
      "metadata": {
        "id": "UVjqjktC6aDL"
      },
      "source": [
        "Bar Plot to show most uber pickups in different months of 2015"
      ]
    },
    {
      "cell_type": "code",
      "metadata": {
        "colab": {
          "base_uri": "https://localhost:8080/"
        },
        "id": "EuE2nrUX3XuW",
        "outputId": "3e254760-d95a-43d5-9657-3e0dd44023e9"
      },
      "source": [
        "z = uber2015_df['month'].value_counts().sort_values()\n",
        "x = z.keys()\n",
        "y = []\n",
        "for i in range(len(z)):\n",
        "  y.append(z.iloc[i])\n",
        "\n",
        "fig = plt.figure(figsize = (30, 5))\n",
        "\n",
        "# creating the bar plot\n",
        "plt.bar(x, y, color ='skyblue',\n",
        "        width = 0.4)\n",
        "for i in range(len(x)):\n",
        "  plt.text(x[i], y[i], y[i], ha=\"center\", va=\"bottom\")"
      ],
      "execution_count": null,
      "outputs": [
        {
          "output_type": "display_data",
          "data": {
            "image/png": "[encoded data removed]",
            "text/plain": [
              "<Figure size 2160x360 with 1 Axes>"
            ]
          },
          "metadata": {
            "needs_background": "light"
          }
        }
      ]
    },
    {
      "cell_type": "markdown",
      "metadata": {
        "id": "T_Myapmh6qSE"
      },
      "source": [
        "Uber Pickups were most in the month of June(6) during 2015"
      ]
    },
    {
      "cell_type": "code",
      "metadata": {
        "colab": {
          "base_uri": "https://localhost:8080/"
        },
        "id": "e33BgkdN3d8-",
        "outputId": "2a92ba64-69e3-4796-81eb-9bb9b6179b02"
      },
      "source": [
        "uber2015_df['time1'].value_counts().sort_values()"
      ],
      "execution_count": null,
      "outputs": [
        {
          "output_type": "execute_result",
          "data": {
            "text/plain": [
              "04:13:54        2\n",
              "04:44:17        2\n",
              "05:18:17        3\n",
              "04:04:41        3\n",
              "04:13:58        3\n",
              "            ...  \n",
              "19:19:00    11946\n",
              "19:17:00    11975\n",
              "19:24:00    11998\n",
              "19:20:00    11999\n",
              "19:18:00    12220\n",
              "Name: time1, Length: 86400, dtype: int64"
            ]
          },
          "metadata": {},
          "execution_count": 47
        }
      ]
    },
    {
      "cell_type": "code",
      "metadata": {
        "colab": {
          "base_uri": "https://localhost:8080/"
        },
        "id": "yvPGvBWz3vow",
        "outputId": "d1502c72-10df-4cd3-fea0-2034dccff9b1"
      },
      "source": [
        "uber2015_df['time1'].value_counts().sort_values().plot.line()"
      ],
      "execution_count": null,
      "outputs": [
        {
          "output_type": "execute_result",
          "data": {
            "text/plain": [
              "<matplotlib.axes._subplots.AxesSubplot at 0x7f75a6e68c90>"
            ]
          },
          "metadata": {},
          "execution_count": 48
        },
        {
          "output_type": "display_data",
          "data": {
            "image/png": "[encoded data removed]",
            "text/plain": [
              "<Figure size 432x288 with 1 Axes>"
            ]
          },
          "metadata": {
            "needs_background": "light"
          }
        }
      ]
    },
    {
      "cell_type": "markdown",
      "metadata": {
        "id": "Tgz1D7OV_GOf"
      },
      "source": [
        "The x-axis shows time and y-axis shows the counts at different time. The time gap on x-axis is at a gap of 5 hours and 33 minutes. From the line chart, it can be observed that during 9:00 a.m. and 10:00 a.m. uber pickups were high. But during evening after 5:00 p.m. there is a sudden increase in the uber pickups around 7:00 p.m. which is also much larger than the morning time."
      ]
    },
    {
      "cell_type": "code",
      "metadata": {
        "colab": {
          "base_uri": "https://localhost:8080/"
        },
        "id": "0Qvta1Q2306T",
        "outputId": "482b38d9-e617-4ff9-c6d1-12a7411d2ba0"
      },
      "source": [
        "z = uber2015_df['Dispatching_base_num'].value_counts().sort_values()\n",
        "x = z.keys()\n",
        "y = []\n",
        "for i in range(len(z)):\n",
        "  y.append(z.iloc[i])\n",
        "\n",
        "fig = plt.figure(figsize = (30, 5))\n",
        "\n",
        "# creating the bar plot\n",
        "plt.bar(x, y, color ='pink',\n",
        "        width = 0.4)\n",
        "for i in range(len(x)):\n",
        "  plt.text(x[i], y[i], y[i], ha=\"center\", va=\"bottom\")"
      ],
      "execution_count": null,
      "outputs": [
        {
          "output_type": "display_data",
          "data": {
            "image/png": "[encoded data removed]",
            "text/plain": [
              "<Figure size 2160x360 with 1 Axes>"
            ]
          },
          "metadata": {
            "needs_background": "light"
          }
        }
      ]
    },
    {
      "cell_type": "markdown",
      "metadata": {
        "id": "G3k-DctK_lb1"
      },
      "source": [
        "The above bar graph shows the uber pickups from different Uber Bases. B02764 base i.e. Danach-NY Base has the largest pickups in 2015."
      ]
    },
    {
      "cell_type": "markdown",
      "metadata": {
        "id": "atqmvC9rJxVK"
      },
      "source": [
        "# Uber Calendar Heatmap for 2015"
      ]
    },
    {
      "cell_type": "markdown",
      "metadata": {
        "id": "1f6jroACxajP"
      },
      "source": [
        "Converting 'Pickup_date' column in uber2015_df to datetime"
      ]
    },
    {
      "cell_type": "code",
      "metadata": {
        "colab": {
          "base_uri": "https://localhost:8080/"
        },
        "id": "EYoSOwWdJzPp",
        "outputId": "eff1f48c-7bc7-46c9-9add-60d7b94df403"
      },
      "source": [
        "uber2015_df['Pickup_date'] = pd.to_datetime(uber2015_df['Pickup_date'], errors='coerce')\n",
        "uber2015_df['Pickup_date']"
      ],
      "execution_count": null,
      "outputs": [
        {
          "output_type": "execute_result",
          "data": {
            "text/plain": [
              "0          2015-05-17 09:47:00\n",
              "1          2015-05-17 09:47:00\n",
              "2          2015-05-17 09:47:00\n",
              "3          2015-05-17 09:47:00\n",
              "4          2015-05-17 09:47:00\n",
              "                   ...        \n",
              "14270474   2015-05-08 15:43:00\n",
              "14270475   2015-05-08 15:43:00\n",
              "14270476   2015-05-08 15:43:00\n",
              "14270477   2015-05-08 15:44:00\n",
              "14270478   2015-05-08 15:44:00\n",
              "Name: Pickup_date, Length: 14270479, dtype: datetime64[ns]"
            ]
          },
          "metadata": {},
          "execution_count": 61
        }
      ]
    },
    {
      "cell_type": "markdown",
      "metadata": {
        "id": "JXQM-jmWxi3Q"
      },
      "source": [
        "Extracting date from uber2015_df['Pickup_date']"
      ]
    },
    {
      "cell_type": "code",
      "metadata": {
        "colab": {
          "base_uri": "https://localhost:8080/"
        },
        "id": "NVSSZ7WJKK2U",
        "outputId": "c5602220-2440-4c78-9172-9d3edbf75c50"
      },
      "source": [
        "uber2015_df['date'] = uber2015_df['Pickup_date'].dt.date\n",
        "uber2015_df['date']"
      ],
      "execution_count": null,
      "outputs": [
        {
          "output_type": "execute_result",
          "data": {
            "text/plain": [
              "0           2015-05-17\n",
              "1           2015-05-17\n",
              "2           2015-05-17\n",
              "3           2015-05-17\n",
              "4           2015-05-17\n",
              "               ...    \n",
              "14270474    2015-05-08\n",
              "14270475    2015-05-08\n",
              "14270476    2015-05-08\n",
              "14270477    2015-05-08\n",
              "14270478    2015-05-08\n",
              "Name: date, Length: 14270479, dtype: object"
            ]
          },
          "metadata": {},
          "execution_count": 62
        }
      ]
    },
    {
      "cell_type": "code",
      "metadata": {
        "colab": {
          "base_uri": "https://localhost:8080/"
        },
        "id": "_F6b_zMAKZu_",
        "outputId": "da01a728-9b9c-4022-afb0-bfedc3299702"
      },
      "source": [
        "uber2015_df['date'] = pd.to_datetime(uber2015_df['date'])\n",
        "\n",
        "# set index to date\n",
        "uber2015_df = uber2015_df.set_index('date')\n",
        "uber2015_df.head()"
      ],
      "execution_count": null,
      "outputs": [
        {
          "output_type": "execute_result",
          "data": {
            "text/html": [
              "<div>\n",
              "<style scoped>\n",
              "    .dataframe tbody tr th:only-of-type {\n",
              "        vertical-align: middle;\n",
              "    }\n",
              "\n",
              "    .dataframe tbody tr th {\n",
              "        vertical-align: top;\n",
              "    }\n",
              "\n",
              "    .dataframe thead th {\n",
              "        text-align: right;\n",
              "    }\n",
              "</style>\n",
              "<table border=\"1\" class=\"dataframe\">\n",
              "  <thead>\n",
              "    <tr style=\"text-align: right;\">\n",
              "      <th></th>\n",
              "      <th>Dispatching_base_num</th>\n",
              "      <th>Pickup_date</th>\n",
              "      <th>Affiliated_base_num</th>\n",
              "      <th>locationID</th>\n",
              "      <th>month</th>\n",
              "      <th>time1</th>\n",
              "      <th>year</th>\n",
              "    </tr>\n",
              "    <tr>\n",
              "      <th>date</th>\n",
              "      <th></th>\n",
              "      <th></th>\n",
              "      <th></th>\n",
              "      <th></th>\n",
              "      <th></th>\n",
              "      <th></th>\n",
              "      <th></th>\n",
              "    </tr>\n",
              "  </thead>\n",
              "  <tbody>\n",
              "    <tr>\n",
              "      <th>2015-05-17</th>\n",
              "      <td>B02617</td>\n",
              "      <td>2015-05-17 09:47:00</td>\n",
              "      <td>B02617</td>\n",
              "      <td>141</td>\n",
              "      <td>5</td>\n",
              "      <td>09:47:00</td>\n",
              "      <td>2015</td>\n",
              "    </tr>\n",
              "    <tr>\n",
              "      <th>2015-05-17</th>\n",
              "      <td>B02617</td>\n",
              "      <td>2015-05-17 09:47:00</td>\n",
              "      <td>B02617</td>\n",
              "      <td>65</td>\n",
              "      <td>5</td>\n",
              "      <td>09:47:00</td>\n",
              "      <td>2015</td>\n",
              "    </tr>\n",
              "    <tr>\n",
              "      <th>2015-05-17</th>\n",
              "      <td>B02617</td>\n",
              "      <td>2015-05-17 09:47:00</td>\n",
              "      <td>B02617</td>\n",
              "      <td>100</td>\n",
              "      <td>5</td>\n",
              "      <td>09:47:00</td>\n",
              "      <td>2015</td>\n",
              "    </tr>\n",
              "    <tr>\n",
              "      <th>2015-05-17</th>\n",
              "      <td>B02617</td>\n",
              "      <td>2015-05-17 09:47:00</td>\n",
              "      <td>B02774</td>\n",
              "      <td>80</td>\n",
              "      <td>5</td>\n",
              "      <td>09:47:00</td>\n",
              "      <td>2015</td>\n",
              "    </tr>\n",
              "    <tr>\n",
              "      <th>2015-05-17</th>\n",
              "      <td>B02617</td>\n",
              "      <td>2015-05-17 09:47:00</td>\n",
              "      <td>B02617</td>\n",
              "      <td>90</td>\n",
              "      <td>5</td>\n",
              "      <td>09:47:00</td>\n",
              "      <td>2015</td>\n",
              "    </tr>\n",
              "  </tbody>\n",
              "</table>\n",
              "</div>"
            ],
            "text/plain": [
              "           Dispatching_base_num         Pickup_date  ...     time1  year\n",
              "date                                                 ...                \n",
              "2015-05-17               B02617 2015-05-17 09:47:00  ...  09:47:00  2015\n",
              "2015-05-17               B02617 2015-05-17 09:47:00  ...  09:47:00  2015\n",
              "2015-05-17               B02617 2015-05-17 09:47:00  ...  09:47:00  2015\n",
              "2015-05-17               B02617 2015-05-17 09:47:00  ...  09:47:00  2015\n",
              "2015-05-17               B02617 2015-05-17 09:47:00  ...  09:47:00  2015\n",
              "\n",
              "[5 rows x 7 columns]"
            ]
          },
          "metadata": {},
          "execution_count": 63
        }
      ]
    },
    {
      "cell_type": "code",
      "metadata": {
        "colab": {
          "base_uri": "https://localhost:8080/"
        },
        "id": "2MqUBQPIKk-q",
        "outputId": "fcc34b04-235f-4809-83b0-eed6bcf6568d"
      },
      "source": [
        "# test if DatetimeIndex\n",
        "isinstance(uber2015_df.index, pd.DatetimeIndex)"
      ],
      "execution_count": null,
      "outputs": [
        {
          "output_type": "execute_result",
          "data": {
            "text/plain": [
              "True"
            ]
          },
          "metadata": {},
          "execution_count": 64
        }
      ]
    },
    {
      "cell_type": "code",
      "metadata": {
        "colab": {
          "base_uri": "https://localhost:8080/"
        },
        "id": "zkzFWxx9KneW",
        "outputId": "0a25e117-9b38-4eb4-9318-647893470f8b"
      },
      "source": [
        "#Constructing a new dataframe with respect to panda series and index by DateTimeIndex\n",
        "location = pd.Series(uber2015_df.locationID)\n",
        "location.head()"
      ],
      "execution_count": null,
      "outputs": [
        {
          "output_type": "execute_result",
          "data": {
            "text/plain": [
              "date\n",
              "2015-05-17    141\n",
              "2015-05-17     65\n",
              "2015-05-17    100\n",
              "2015-05-17     80\n",
              "2015-05-17     90\n",
              "Name: locationID, dtype: int64"
            ]
          },
          "metadata": {},
          "execution_count": 65
        }
      ]
    },
    {
      "cell_type": "code",
      "metadata": {
        "colab": {
          "base_uri": "https://localhost:8080/"
        },
        "id": "mkx2C0vaKtga",
        "outputId": "a6b451b4-a4a5-4b17-970f-4aeb25498335"
      },
      "source": [
        "calplot.calplot(data=location, cmap='Reds', figsize=(25,5));\n",
        "plt.suptitle('Calendar Heatmap for 2015', y=1.0, fontsize=20);"
      ],
      "execution_count": null,
      "outputs": [
        {
          "output_type": "display_data",
          "data": {
            "image/png": "[encoded data removed]",
            "text/plain": [
              "<Figure size 1800x360 with 2 Axes>"
            ]
          },
          "metadata": {}
        }
      ]
    },
    {
      "cell_type": "markdown",
      "metadata": {
        "id": "c-Pv7lwjx_oo"
      },
      "source": [
        "The above calendar heatmap of 2015 shows the number of days in maximum number of pickups were done."
      ]
    },
    {
      "cell_type": "markdown",
      "metadata": {
        "id": "9UQUpN3kAFgj"
      },
      "source": [
        "# Uber 2014 & 2015 pickups together"
      ]
    },
    {
      "cell_type": "code",
      "metadata": {
        "colab": {
          "base_uri": "https://localhost:8080/"
        },
        "id": "oJScjYY6_yYD",
        "outputId": "941d4af1-1a6b-4ec8-d475-2ce101d0145a"
      },
      "source": [
        "uber1415_df = pd.DataFrame()\n",
        "uber1415_df = uber1415_df.append(uber2014_df)\n",
        "uber1415_df = uber1415_df.append(uber2015_df)\n",
        "uber1415_df.shape"
      ],
      "execution_count": null,
      "outputs": [
        {
          "output_type": "execute_result",
          "data": {
            "text/plain": [
              "(18804806, 12)"
            ]
          },
          "metadata": {},
          "execution_count": 50
        }
      ]
    },
    {
      "cell_type": "code",
      "metadata": {
        "colab": {
          "base_uri": "https://localhost:8080/"
        },
        "id": "sNsft3YAAb39",
        "outputId": "02877526-4f6f-47ae-8bfc-2ea5e4773fad"
      },
      "source": [
        "uber1415_df.head()"
      ],
      "execution_count": null,
      "outputs": [
        {
          "output_type": "execute_result",
          "data": {
            "text/html": [
              "<div>\n",
              "<style scoped>\n",
              "    .dataframe tbody tr th:only-of-type {\n",
              "        vertical-align: middle;\n",
              "    }\n",
              "\n",
              "    .dataframe tbody tr th {\n",
              "        vertical-align: top;\n",
              "    }\n",
              "\n",
              "    .dataframe thead th {\n",
              "        text-align: right;\n",
              "    }\n",
              "</style>\n",
              "<table border=\"1\" class=\"dataframe\">\n",
              "  <thead>\n",
              "    <tr style=\"text-align: right;\">\n",
              "      <th></th>\n",
              "      <th>Date/Time</th>\n",
              "      <th>Lat</th>\n",
              "      <th>Lon</th>\n",
              "      <th>Base</th>\n",
              "      <th>month</th>\n",
              "      <th>time</th>\n",
              "      <th>year</th>\n",
              "      <th>Dispatching_base_num</th>\n",
              "      <th>Pickup_date</th>\n",
              "      <th>Affiliated_base_num</th>\n",
              "      <th>locationID</th>\n",
              "      <th>time1</th>\n",
              "    </tr>\n",
              "  </thead>\n",
              "  <tbody>\n",
              "    <tr>\n",
              "      <th>0</th>\n",
              "      <td>2014-04-01 00:11:00</td>\n",
              "      <td>40.7690</td>\n",
              "      <td>-73.9549</td>\n",
              "      <td>B02512</td>\n",
              "      <td>4</td>\n",
              "      <td>00:11:00</td>\n",
              "      <td>2014</td>\n",
              "      <td>NaN</td>\n",
              "      <td>NaT</td>\n",
              "      <td>NaN</td>\n",
              "      <td>NaN</td>\n",
              "      <td>NaN</td>\n",
              "    </tr>\n",
              "    <tr>\n",
              "      <th>1</th>\n",
              "      <td>2014-04-01 00:17:00</td>\n",
              "      <td>40.7267</td>\n",
              "      <td>-74.0345</td>\n",
              "      <td>B02512</td>\n",
              "      <td>4</td>\n",
              "      <td>00:17:00</td>\n",
              "      <td>2014</td>\n",
              "      <td>NaN</td>\n",
              "      <td>NaT</td>\n",
              "      <td>NaN</td>\n",
              "      <td>NaN</td>\n",
              "      <td>NaN</td>\n",
              "    </tr>\n",
              "    <tr>\n",
              "      <th>2</th>\n",
              "      <td>2014-04-01 00:21:00</td>\n",
              "      <td>40.7316</td>\n",
              "      <td>-73.9873</td>\n",
              "      <td>B02512</td>\n",
              "      <td>4</td>\n",
              "      <td>00:21:00</td>\n",
              "      <td>2014</td>\n",
              "      <td>NaN</td>\n",
              "      <td>NaT</td>\n",
              "      <td>NaN</td>\n",
              "      <td>NaN</td>\n",
              "      <td>NaN</td>\n",
              "    </tr>\n",
              "    <tr>\n",
              "      <th>3</th>\n",
              "      <td>2014-04-01 00:28:00</td>\n",
              "      <td>40.7588</td>\n",
              "      <td>-73.9776</td>\n",
              "      <td>B02512</td>\n",
              "      <td>4</td>\n",
              "      <td>00:28:00</td>\n",
              "      <td>2014</td>\n",
              "      <td>NaN</td>\n",
              "      <td>NaT</td>\n",
              "      <td>NaN</td>\n",
              "      <td>NaN</td>\n",
              "      <td>NaN</td>\n",
              "    </tr>\n",
              "    <tr>\n",
              "      <th>4</th>\n",
              "      <td>2014-04-01 00:33:00</td>\n",
              "      <td>40.7594</td>\n",
              "      <td>-73.9722</td>\n",
              "      <td>B02512</td>\n",
              "      <td>4</td>\n",
              "      <td>00:33:00</td>\n",
              "      <td>2014</td>\n",
              "      <td>NaN</td>\n",
              "      <td>NaT</td>\n",
              "      <td>NaN</td>\n",
              "      <td>NaN</td>\n",
              "      <td>NaN</td>\n",
              "    </tr>\n",
              "  </tbody>\n",
              "</table>\n",
              "</div>"
            ],
            "text/plain": [
              "            Date/Time      Lat      Lon  ... Affiliated_base_num  locationID time1\n",
              "0 2014-04-01 00:11:00  40.7690 -73.9549  ...                 NaN         NaN   NaN\n",
              "1 2014-04-01 00:17:00  40.7267 -74.0345  ...                 NaN         NaN   NaN\n",
              "2 2014-04-01 00:21:00  40.7316 -73.9873  ...                 NaN         NaN   NaN\n",
              "3 2014-04-01 00:28:00  40.7588 -73.9776  ...                 NaN         NaN   NaN\n",
              "4 2014-04-01 00:33:00  40.7594 -73.9722  ...                 NaN         NaN   NaN\n",
              "\n",
              "[5 rows x 12 columns]"
            ]
          },
          "metadata": {},
          "execution_count": 51
        }
      ]
    },
    {
      "cell_type": "markdown",
      "metadata": {
        "id": "Z3bweggeAoqs"
      },
      "source": [
        "# Visualization of comparing uber pickups in 2014 and 2015"
      ]
    },
    {
      "cell_type": "code",
      "metadata": {
        "colab": {
          "base_uri": "https://localhost:8080/",
          "height": 406
        },
        "id": "G95u4dVSAd58",
        "outputId": "50053ac7-bbd6-4bcb-a043-6b1617a8d523"
      },
      "source": [
        "fig = plt.figure(figsize=(20,5), dpi=80, facecolor='w', edgecolor='k')\n",
        "sns.set(style=\"white\")\n",
        "sns.countplot(x='year', hue = 'month',data = uber1415_df, palette=\"Accent_r\")"
      ],
      "execution_count": null,
      "outputs": [
        {
          "output_type": "execute_result",
          "data": {
            "text/plain": [
              "<matplotlib.axes._subplots.AxesSubplot at 0x7f75a6d4f550>"
            ]
          },
          "metadata": {},
          "execution_count": 52
        },
        {
          "output_type": "display_data",
          "data": {
            "image/png": "[encoded data removed]",
            "text/plain": [
              "<Figure size 1600x400 with 1 Axes>"
            ]
          },
          "metadata": {}
        }
      ]
    },
    {
      "cell_type": "markdown",
      "metadata": {
        "id": "BVad-gyBCluP"
      },
      "source": [
        "In 2015, the uber pickups were more as compared to 2014. From the data available, the following months are in common between 2014 and 2015: April, May, June, July. From these common months, 2015 have more pickups than 2014."
      ]
    },
    {
      "cell_type": "code",
      "metadata": {
        "id": "o9CWEZX0DYTQ"
      },
      "source": [],
      "execution_count": null,
      "outputs": []
    }
  ]
}